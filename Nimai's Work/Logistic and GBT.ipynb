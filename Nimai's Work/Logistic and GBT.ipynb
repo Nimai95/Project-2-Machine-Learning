{
 "cells": [
  {
   "cell_type": "markdown",
   "id": "42eb1f97-ef03-4cbc-ad29-282ecdb535e6",
   "metadata": {},
   "source": [
    "# FINTECH BOOTCAMP - PROJECT 2\n",
    "## Group 2 Notebook\n",
    "---\n",
    "By applying machine learning models, we examine (1) if selective technical indicators could predict the stock direction with statistically significant level (2) Which model is the best (3) Whether we could optimize the model (4) Which time frame the model could generate the best result. "
   ]
  },
  {
   "cell_type": "code",
   "execution_count": 44,
   "id": "7729456b-80dd-443d-aff5-6690f2dfebb5",
   "metadata": {},
   "outputs": [],
   "source": [
    "# Initial import all libraries and dependencies\n",
    "import yfinance as yf\n",
    "import matplotlib.dates as mdates\n",
    "import panel as pn\n",
    "import datetime\n",
    "import numpy as np\n",
    "import pandas as pd\n",
    "import hvplot.pandas\n",
    "from finta import TA\n",
    "# from pandas_datareader import data\n",
    "import matplotlib.pyplot as plt\n",
    "\n",
    "# Ignore wanrings\n",
    "import warnings\n",
    "warnings.filterwarnings(\"ignore\")\n",
    "\n",
    "\n",
    "# Machine learning libraries\n",
    "from sklearn.preprocessing import StandardScaler"
   ]
  },
  {
   "cell_type": "markdown",
   "id": "1cfe21af-807b-401d-b83d-57ce09759860",
   "metadata": {},
   "source": [
    "### I. DATA FETCHING AND CLEANING"
   ]
  },
  {
   "cell_type": "code",
   "execution_count": 45,
   "id": "068488b2-126c-4652-8f0b-366f9707a84f",
   "metadata": {},
   "outputs": [],
   "source": [
    "# Define the instruments to download data of a stock/ETF .\n",
    "tickers = [\"AAPL\", \"TSLA\", \"MSFT\", \"SPY\", \"...\"] # to be decided\n",
    "\n",
    "# Fetch SPY Data from 1/1/2017 until 12/31/2021 and choosing a interval\n",
    "start_date = datetime.date(2017,1,1)\n",
    "end_date = datetime.date(2021,12,31)\n",
    "interval = '1d'"
   ]
  },
  {
   "cell_type": "code",
   "execution_count": 46,
   "id": "87276f8e-a7d2-4d58-9d37-a5058866883c",
   "metadata": {},
   "outputs": [
    {
     "name": "stdout",
     "output_type": "stream",
     "text": [
      "[*********************100%***********************]  1 of 1 completed\n"
     ]
    },
    {
     "data": {
      "text/plain": [
       "pandas.core.frame.DataFrame"
      ]
     },
     "execution_count": 46,
     "metadata": {},
     "output_type": "execute_result"
    }
   ],
   "source": [
    "#Use pandas_reader.data.DataReader to load the desired data.\n",
    "yf.Tickers(tickers[0])\n",
    "panel_data = yf.download(tickers[0], start = start_date, end = end_date, interval = interval)\n",
    "\n",
    "# Checkout the data type\n",
    "type(panel_data)"
   ]
  },
  {
   "cell_type": "code",
   "execution_count": 47,
   "id": "33852431-5b4d-465c-915f-a8628220e18f",
   "metadata": {},
   "outputs": [
    {
     "data": {
      "text/html": [
       "<div>\n",
       "<style scoped>\n",
       "    .dataframe tbody tr th:only-of-type {\n",
       "        vertical-align: middle;\n",
       "    }\n",
       "\n",
       "    .dataframe tbody tr th {\n",
       "        vertical-align: top;\n",
       "    }\n",
       "\n",
       "    .dataframe thead th {\n",
       "        text-align: right;\n",
       "    }\n",
       "</style>\n",
       "<table border=\"1\" class=\"dataframe\">\n",
       "  <thead>\n",
       "    <tr style=\"text-align: right;\">\n",
       "      <th></th>\n",
       "      <th>Open</th>\n",
       "      <th>High</th>\n",
       "      <th>Low</th>\n",
       "      <th>Close</th>\n",
       "      <th>Adj Close</th>\n",
       "      <th>Volume</th>\n",
       "    </tr>\n",
       "    <tr>\n",
       "      <th>Date</th>\n",
       "      <th></th>\n",
       "      <th></th>\n",
       "      <th></th>\n",
       "      <th></th>\n",
       "      <th></th>\n",
       "      <th></th>\n",
       "    </tr>\n",
       "  </thead>\n",
       "  <tbody>\n",
       "    <tr>\n",
       "      <th>2021-12-23</th>\n",
       "      <td>175.850006</td>\n",
       "      <td>176.850006</td>\n",
       "      <td>175.270004</td>\n",
       "      <td>176.279999</td>\n",
       "      <td>176.055695</td>\n",
       "      <td>68356600</td>\n",
       "    </tr>\n",
       "    <tr>\n",
       "      <th>2021-12-27</th>\n",
       "      <td>177.089996</td>\n",
       "      <td>180.419998</td>\n",
       "      <td>177.070007</td>\n",
       "      <td>180.330002</td>\n",
       "      <td>180.100540</td>\n",
       "      <td>74919600</td>\n",
       "    </tr>\n",
       "    <tr>\n",
       "      <th>2021-12-28</th>\n",
       "      <td>180.160004</td>\n",
       "      <td>181.330002</td>\n",
       "      <td>178.529999</td>\n",
       "      <td>179.289993</td>\n",
       "      <td>179.061859</td>\n",
       "      <td>79144300</td>\n",
       "    </tr>\n",
       "    <tr>\n",
       "      <th>2021-12-29</th>\n",
       "      <td>179.330002</td>\n",
       "      <td>180.630005</td>\n",
       "      <td>178.139999</td>\n",
       "      <td>179.380005</td>\n",
       "      <td>179.151749</td>\n",
       "      <td>62348900</td>\n",
       "    </tr>\n",
       "    <tr>\n",
       "      <th>2021-12-30</th>\n",
       "      <td>179.470001</td>\n",
       "      <td>180.570007</td>\n",
       "      <td>178.089996</td>\n",
       "      <td>178.199997</td>\n",
       "      <td>177.973251</td>\n",
       "      <td>59773000</td>\n",
       "    </tr>\n",
       "  </tbody>\n",
       "</table>\n",
       "</div>"
      ],
      "text/plain": [
       "                  Open        High         Low       Close   Adj Close  \\\n",
       "Date                                                                     \n",
       "2021-12-23  175.850006  176.850006  175.270004  176.279999  176.055695   \n",
       "2021-12-27  177.089996  180.419998  177.070007  180.330002  180.100540   \n",
       "2021-12-28  180.160004  181.330002  178.529999  179.289993  179.061859   \n",
       "2021-12-29  179.330002  180.630005  178.139999  179.380005  179.151749   \n",
       "2021-12-30  179.470001  180.570007  178.089996  178.199997  177.973251   \n",
       "\n",
       "              Volume  \n",
       "Date                  \n",
       "2021-12-23  68356600  \n",
       "2021-12-27  74919600  \n",
       "2021-12-28  79144300  \n",
       "2021-12-29  62348900  \n",
       "2021-12-30  59773000  "
      ]
     },
     "execution_count": 47,
     "metadata": {},
     "output_type": "execute_result"
    }
   ],
   "source": [
    "# Review data\n",
    "panel_data.tail(5)"
   ]
  },
  {
   "cell_type": "code",
   "execution_count": 48,
   "id": "9c237922-0b57-4e46-a641-7c8b5acc7281",
   "metadata": {},
   "outputs": [],
   "source": [
    "# Data description and check if null\n",
    "def data_description(df):\n",
    "    print(\"Data Information\")\n",
    "    print(df.info())\n",
    "    print(\"-\"*50)"
   ]
  },
  {
   "cell_type": "code",
   "execution_count": 49,
   "id": "57c90e9a-9a4a-48ab-9716-6005498942ae",
   "metadata": {},
   "outputs": [
    {
     "name": "stdout",
     "output_type": "stream",
     "text": [
      "Data Information\n",
      "<class 'pandas.core.frame.DataFrame'>\n",
      "DatetimeIndex: 1258 entries, 2017-01-03 to 2021-12-30\n",
      "Data columns (total 6 columns):\n",
      " #   Column     Non-Null Count  Dtype  \n",
      "---  ------     --------------  -----  \n",
      " 0   Open       1258 non-null   float64\n",
      " 1   High       1258 non-null   float64\n",
      " 2   Low        1258 non-null   float64\n",
      " 3   Close      1258 non-null   float64\n",
      " 4   Adj Close  1258 non-null   float64\n",
      " 5   Volume     1258 non-null   int64  \n",
      "dtypes: float64(5), int64(1)\n",
      "memory usage: 68.8 KB\n",
      "None\n",
      "--------------------------------------------------\n"
     ]
    }
   ],
   "source": [
    "data_description(panel_data) # if 0 null and OHLC is floating and Volumne is int, then data is clean to proceed to part II"
   ]
  },
  {
   "cell_type": "code",
   "execution_count": 50,
   "id": "7ff12b4f-d605-428b-b0ab-8dfb7afe8221",
   "metadata": {},
   "outputs": [],
   "source": [
    "# IF data is not clean then dropping null or convert datatype\n",
    "# def data_cleaning(df):\n",
    "#     df.dropna()"
   ]
  },
  {
   "cell_type": "code",
   "execution_count": 51,
   "id": "4cafff74-e136-42a9-8fe0-f40711294851",
   "metadata": {},
   "outputs": [],
   "source": [
    "# Convert to ohlcv dataframe to be ready for finta\n",
    "def ohlcv(df):\n",
    "    del(df['Close'])\n",
    "    df = df.rename(columns = {\"Open\": \"open\",'High' : 'high', 'Low' : \"low\", \"Adj Close\": \"close\", 'Volume': 'volume'},inplace = True)\n",
    "    return df"
   ]
  },
  {
   "cell_type": "code",
   "execution_count": 52,
   "id": "30e29d05-4b6d-4f63-9ad7-58d5ec57ddf0",
   "metadata": {},
   "outputs": [
    {
     "data": {
      "text/html": [
       "<div>\n",
       "<style scoped>\n",
       "    .dataframe tbody tr th:only-of-type {\n",
       "        vertical-align: middle;\n",
       "    }\n",
       "\n",
       "    .dataframe tbody tr th {\n",
       "        vertical-align: top;\n",
       "    }\n",
       "\n",
       "    .dataframe thead th {\n",
       "        text-align: right;\n",
       "    }\n",
       "</style>\n",
       "<table border=\"1\" class=\"dataframe\">\n",
       "  <thead>\n",
       "    <tr style=\"text-align: right;\">\n",
       "      <th></th>\n",
       "      <th>open</th>\n",
       "      <th>high</th>\n",
       "      <th>low</th>\n",
       "      <th>close</th>\n",
       "      <th>volume</th>\n",
       "    </tr>\n",
       "    <tr>\n",
       "      <th>Date</th>\n",
       "      <th></th>\n",
       "      <th></th>\n",
       "      <th></th>\n",
       "      <th></th>\n",
       "      <th></th>\n",
       "    </tr>\n",
       "  </thead>\n",
       "  <tbody>\n",
       "    <tr>\n",
       "      <th>2017-01-03</th>\n",
       "      <td>28.950001</td>\n",
       "      <td>29.082500</td>\n",
       "      <td>28.690001</td>\n",
       "      <td>27.297689</td>\n",
       "      <td>115127600</td>\n",
       "    </tr>\n",
       "    <tr>\n",
       "      <th>2017-01-04</th>\n",
       "      <td>28.962500</td>\n",
       "      <td>29.127501</td>\n",
       "      <td>28.937500</td>\n",
       "      <td>27.267138</td>\n",
       "      <td>84472400</td>\n",
       "    </tr>\n",
       "    <tr>\n",
       "      <th>2017-01-05</th>\n",
       "      <td>28.980000</td>\n",
       "      <td>29.215000</td>\n",
       "      <td>28.952499</td>\n",
       "      <td>27.405804</td>\n",
       "      <td>88774400</td>\n",
       "    </tr>\n",
       "    <tr>\n",
       "      <th>2017-01-06</th>\n",
       "      <td>29.195000</td>\n",
       "      <td>29.540001</td>\n",
       "      <td>29.117500</td>\n",
       "      <td>27.711327</td>\n",
       "      <td>127007600</td>\n",
       "    </tr>\n",
       "    <tr>\n",
       "      <th>2017-01-09</th>\n",
       "      <td>29.487499</td>\n",
       "      <td>29.857500</td>\n",
       "      <td>29.485001</td>\n",
       "      <td>27.965147</td>\n",
       "      <td>134247600</td>\n",
       "    </tr>\n",
       "    <tr>\n",
       "      <th>...</th>\n",
       "      <td>...</td>\n",
       "      <td>...</td>\n",
       "      <td>...</td>\n",
       "      <td>...</td>\n",
       "      <td>...</td>\n",
       "    </tr>\n",
       "    <tr>\n",
       "      <th>2021-12-23</th>\n",
       "      <td>175.850006</td>\n",
       "      <td>176.850006</td>\n",
       "      <td>175.270004</td>\n",
       "      <td>176.055695</td>\n",
       "      <td>68356600</td>\n",
       "    </tr>\n",
       "    <tr>\n",
       "      <th>2021-12-27</th>\n",
       "      <td>177.089996</td>\n",
       "      <td>180.419998</td>\n",
       "      <td>177.070007</td>\n",
       "      <td>180.100540</td>\n",
       "      <td>74919600</td>\n",
       "    </tr>\n",
       "    <tr>\n",
       "      <th>2021-12-28</th>\n",
       "      <td>180.160004</td>\n",
       "      <td>181.330002</td>\n",
       "      <td>178.529999</td>\n",
       "      <td>179.061859</td>\n",
       "      <td>79144300</td>\n",
       "    </tr>\n",
       "    <tr>\n",
       "      <th>2021-12-29</th>\n",
       "      <td>179.330002</td>\n",
       "      <td>180.630005</td>\n",
       "      <td>178.139999</td>\n",
       "      <td>179.151749</td>\n",
       "      <td>62348900</td>\n",
       "    </tr>\n",
       "    <tr>\n",
       "      <th>2021-12-30</th>\n",
       "      <td>179.470001</td>\n",
       "      <td>180.570007</td>\n",
       "      <td>178.089996</td>\n",
       "      <td>177.973251</td>\n",
       "      <td>59773000</td>\n",
       "    </tr>\n",
       "  </tbody>\n",
       "</table>\n",
       "<p>1258 rows × 5 columns</p>\n",
       "</div>"
      ],
      "text/plain": [
       "                  open        high         low       close     volume\n",
       "Date                                                                 \n",
       "2017-01-03   28.950001   29.082500   28.690001   27.297689  115127600\n",
       "2017-01-04   28.962500   29.127501   28.937500   27.267138   84472400\n",
       "2017-01-05   28.980000   29.215000   28.952499   27.405804   88774400\n",
       "2017-01-06   29.195000   29.540001   29.117500   27.711327  127007600\n",
       "2017-01-09   29.487499   29.857500   29.485001   27.965147  134247600\n",
       "...                ...         ...         ...         ...        ...\n",
       "2021-12-23  175.850006  176.850006  175.270004  176.055695   68356600\n",
       "2021-12-27  177.089996  180.419998  177.070007  180.100540   74919600\n",
       "2021-12-28  180.160004  181.330002  178.529999  179.061859   79144300\n",
       "2021-12-29  179.330002  180.630005  178.139999  179.151749   62348900\n",
       "2021-12-30  179.470001  180.570007  178.089996  177.973251   59773000\n",
       "\n",
       "[1258 rows x 5 columns]"
      ]
     },
     "execution_count": 52,
     "metadata": {},
     "output_type": "execute_result"
    }
   ],
   "source": [
    "ohlcv(panel_data)\n",
    "panel_data"
   ]
  },
  {
   "cell_type": "markdown",
   "id": "09c070a0-726c-40bc-a1dd-8570abbcc816",
   "metadata": {},
   "source": [
    "### II. DATA PROCESSING AND PREPARATION"
   ]
  },
  {
   "cell_type": "code",
   "execution_count": 53,
   "id": "a5fb1fc2-efaa-4555-bbb6-1ab309361e0f",
   "metadata": {},
   "outputs": [],
   "source": [
    "# Timeframe for prediction\n",
    "time_frame = [3,5,7]\n",
    "\n",
    "# Identify stock direction\n",
    "def stock_direction(df, days):# days is time frame\n",
    "    direction = (df['close'].shift(-days) > df['close'])\n",
    "    direction = direction.iloc[:-days]\n",
    "    return direction.astype(int) #return y values"
   ]
  },
  {
   "cell_type": "code",
   "execution_count": 54,
   "id": "56cd4865-5c1a-402d-8348-64ddb0d4980f",
   "metadata": {},
   "outputs": [
    {
     "data": {
      "text/plain": [
       "Date\n",
       "2017-01-03    1\n",
       "2017-01-04    1\n",
       "2017-01-05    1\n",
       "2017-01-06    1\n",
       "2017-01-09    1\n",
       "             ..\n",
       "2021-12-20    1\n",
       "2021-12-21    1\n",
       "2021-12-22    1\n",
       "2021-12-23    1\n",
       "2021-12-27    0\n",
       "Name: close, Length: 1255, dtype: int32"
      ]
     },
     "execution_count": 54,
     "metadata": {},
     "output_type": "execute_result"
    }
   ],
   "source": [
    "stock_direction(panel_data,time_frame[0]) # y values"
   ]
  },
  {
   "cell_type": "code",
   "execution_count": 55,
   "id": "ad60e98a-f6eb-40b7-96a9-c08f04a2f898",
   "metadata": {},
   "outputs": [],
   "source": [
    "# Using Finta calculate technical indicators\n",
    "# Define key window to calculate for technical analysis \n",
    "window = [5,14,21,50]\n",
    "def technical_indicators (df): # https://github.com/peerchemist/finta/blob/master/finta/finta.py\n",
    "    x = pd.DataFrame()\n",
    "    for n in range(len(window)) :  ### LOOPING DOES NOT SHOW(?)\n",
    "        a = TA.BBANDS(df,window[n])\n",
    "        a = a.add_prefix(f\"{window[n]}_\")\n",
    "        b = TA.RSI(df,window[n])\n",
    "        c = TA.PIVOT_FIB(df)\n",
    "        c = c.add_prefix(f\"{window[n]}_\")\n",
    "        d = TA.OBV(df)\n",
    "        d.rename(f\"{window[n]}_OBV\", axis = 1, inplace = True)\n",
    "        e = TA.SMA(df,window[n])\n",
    "        f = TA.EMA(df,window[n])\n",
    "        g = TA.ROC(df,window[n])\n",
    "        g.rename(f\"{window[n]}_ROC\", axis = 1, inplace = True)\n",
    "        k = TA.WILLIAMS(df,window[n])\n",
    "        temp = pd.concat([a,b,c,d,e,f,g,k],axis = 1)\n",
    "        x = pd.concat([x,temp],axis=1)\n",
    "    return x"
   ]
  },
  {
   "cell_type": "code",
   "execution_count": 56,
   "id": "549f04e6-a4b4-40ac-b90e-d3cc6db79290",
   "metadata": {},
   "outputs": [
    {
     "data": {
      "text/html": [
       "<div>\n",
       "<style scoped>\n",
       "    .dataframe tbody tr th:only-of-type {\n",
       "        vertical-align: middle;\n",
       "    }\n",
       "\n",
       "    .dataframe tbody tr th {\n",
       "        vertical-align: top;\n",
       "    }\n",
       "\n",
       "    .dataframe thead th {\n",
       "        text-align: right;\n",
       "    }\n",
       "</style>\n",
       "<table border=\"1\" class=\"dataframe\">\n",
       "  <thead>\n",
       "    <tr style=\"text-align: right;\">\n",
       "      <th></th>\n",
       "      <th>5_BB_UPPER</th>\n",
       "      <th>5_BB_MIDDLE</th>\n",
       "      <th>5_BB_LOWER</th>\n",
       "      <th>5 period RSI</th>\n",
       "      <th>5_pivot</th>\n",
       "      <th>5_s1</th>\n",
       "      <th>5_s2</th>\n",
       "      <th>5_s3</th>\n",
       "      <th>5_s4</th>\n",
       "      <th>5_r1</th>\n",
       "      <th>...</th>\n",
       "      <th>50_s4</th>\n",
       "      <th>50_r1</th>\n",
       "      <th>50_r2</th>\n",
       "      <th>50_r3</th>\n",
       "      <th>50_r4</th>\n",
       "      <th>50_OBV</th>\n",
       "      <th>50 period SMA</th>\n",
       "      <th>50 period EMA</th>\n",
       "      <th>50_ROC</th>\n",
       "      <th>50 Williams %R</th>\n",
       "    </tr>\n",
       "    <tr>\n",
       "      <th>Date</th>\n",
       "      <th></th>\n",
       "      <th></th>\n",
       "      <th></th>\n",
       "      <th></th>\n",
       "      <th></th>\n",
       "      <th></th>\n",
       "      <th></th>\n",
       "      <th></th>\n",
       "      <th></th>\n",
       "      <th></th>\n",
       "      <th></th>\n",
       "      <th></th>\n",
       "      <th></th>\n",
       "      <th></th>\n",
       "      <th></th>\n",
       "      <th></th>\n",
       "      <th></th>\n",
       "      <th></th>\n",
       "      <th></th>\n",
       "      <th></th>\n",
       "      <th></th>\n",
       "    </tr>\n",
       "  </thead>\n",
       "  <tbody>\n",
       "    <tr>\n",
       "      <th>2017-01-03</th>\n",
       "      <td>NaN</td>\n",
       "      <td>NaN</td>\n",
       "      <td>NaN</td>\n",
       "      <td>NaN</td>\n",
       "      <td>NaN</td>\n",
       "      <td>NaN</td>\n",
       "      <td>NaN</td>\n",
       "      <td>NaN</td>\n",
       "      <td>NaN</td>\n",
       "      <td>NaN</td>\n",
       "      <td>...</td>\n",
       "      <td>NaN</td>\n",
       "      <td>NaN</td>\n",
       "      <td>NaN</td>\n",
       "      <td>NaN</td>\n",
       "      <td>NaN</td>\n",
       "      <td>NaN</td>\n",
       "      <td>NaN</td>\n",
       "      <td>27.297689</td>\n",
       "      <td>NaN</td>\n",
       "      <td>NaN</td>\n",
       "    </tr>\n",
       "    <tr>\n",
       "      <th>2017-01-04</th>\n",
       "      <td>NaN</td>\n",
       "      <td>NaN</td>\n",
       "      <td>NaN</td>\n",
       "      <td>0.000000</td>\n",
       "      <td>28.356730</td>\n",
       "      <td>28.206795</td>\n",
       "      <td>28.114165</td>\n",
       "      <td>27.964230</td>\n",
       "      <td>27.814295</td>\n",
       "      <td>28.506665</td>\n",
       "      <td>...</td>\n",
       "      <td>27.814295</td>\n",
       "      <td>28.506665</td>\n",
       "      <td>28.599295</td>\n",
       "      <td>28.749230</td>\n",
       "      <td>28.899165</td>\n",
       "      <td>-8.447240e+07</td>\n",
       "      <td>NaN</td>\n",
       "      <td>27.282108</td>\n",
       "      <td>NaN</td>\n",
       "      <td>NaN</td>\n",
       "    </tr>\n",
       "    <tr>\n",
       "      <th>2017-01-05</th>\n",
       "      <td>NaN</td>\n",
       "      <td>NaN</td>\n",
       "      <td>NaN</td>\n",
       "      <td>85.015097</td>\n",
       "      <td>28.444046</td>\n",
       "      <td>28.371466</td>\n",
       "      <td>28.326626</td>\n",
       "      <td>28.254045</td>\n",
       "      <td>28.181465</td>\n",
       "      <td>28.516626</td>\n",
       "      <td>...</td>\n",
       "      <td>28.181465</td>\n",
       "      <td>28.516626</td>\n",
       "      <td>28.561466</td>\n",
       "      <td>28.634047</td>\n",
       "      <td>28.706627</td>\n",
       "      <td>4.302000e+06</td>\n",
       "      <td>NaN</td>\n",
       "      <td>27.325000</td>\n",
       "      <td>NaN</td>\n",
       "      <td>NaN</td>\n",
       "    </tr>\n",
       "    <tr>\n",
       "      <th>2017-01-06</th>\n",
       "      <td>NaN</td>\n",
       "      <td>NaN</td>\n",
       "      <td>NaN</td>\n",
       "      <td>95.515409</td>\n",
       "      <td>28.524434</td>\n",
       "      <td>28.424159</td>\n",
       "      <td>28.362209</td>\n",
       "      <td>28.261934</td>\n",
       "      <td>28.161658</td>\n",
       "      <td>28.624710</td>\n",
       "      <td>...</td>\n",
       "      <td>28.161658</td>\n",
       "      <td>28.624710</td>\n",
       "      <td>28.686660</td>\n",
       "      <td>28.786935</td>\n",
       "      <td>28.887210</td>\n",
       "      <td>1.313096e+08</td>\n",
       "      <td>NaN</td>\n",
       "      <td>27.427452</td>\n",
       "      <td>NaN</td>\n",
       "      <td>NaN</td>\n",
       "    </tr>\n",
       "    <tr>\n",
       "      <th>2017-01-09</th>\n",
       "      <td>28.130021</td>\n",
       "      <td>27.529421</td>\n",
       "      <td>26.928821</td>\n",
       "      <td>97.404272</td>\n",
       "      <td>28.789609</td>\n",
       "      <td>28.628214</td>\n",
       "      <td>28.528504</td>\n",
       "      <td>28.367109</td>\n",
       "      <td>28.205713</td>\n",
       "      <td>28.951005</td>\n",
       "      <td>...</td>\n",
       "      <td>28.205713</td>\n",
       "      <td>28.951005</td>\n",
       "      <td>29.050715</td>\n",
       "      <td>29.212110</td>\n",
       "      <td>29.373505</td>\n",
       "      <td>2.655572e+08</td>\n",
       "      <td>NaN</td>\n",
       "      <td>27.543763</td>\n",
       "      <td>NaN</td>\n",
       "      <td>NaN</td>\n",
       "    </tr>\n",
       "    <tr>\n",
       "      <th>...</th>\n",
       "      <td>...</td>\n",
       "      <td>...</td>\n",
       "      <td>...</td>\n",
       "      <td>...</td>\n",
       "      <td>...</td>\n",
       "      <td>...</td>\n",
       "      <td>...</td>\n",
       "      <td>...</td>\n",
       "      <td>...</td>\n",
       "      <td>...</td>\n",
       "      <td>...</td>\n",
       "      <td>...</td>\n",
       "      <td>...</td>\n",
       "      <td>...</td>\n",
       "      <td>...</td>\n",
       "      <td>...</td>\n",
       "      <td>...</td>\n",
       "      <td>...</td>\n",
       "      <td>...</td>\n",
       "      <td>...</td>\n",
       "      <td>...</td>\n",
       "    </tr>\n",
       "    <tr>\n",
       "      <th>2021-12-23</th>\n",
       "      <td>178.555870</td>\n",
       "      <td>172.939664</td>\n",
       "      <td>167.323457</td>\n",
       "      <td>63.064880</td>\n",
       "      <td>174.475499</td>\n",
       "      <td>173.058277</td>\n",
       "      <td>172.182715</td>\n",
       "      <td>170.765493</td>\n",
       "      <td>169.348270</td>\n",
       "      <td>175.892722</td>\n",
       "      <td>...</td>\n",
       "      <td>169.348270</td>\n",
       "      <td>175.892722</td>\n",
       "      <td>176.768284</td>\n",
       "      <td>178.185506</td>\n",
       "      <td>179.602729</td>\n",
       "      <td>6.060665e+09</td>\n",
       "      <td>158.594117</td>\n",
       "      <td>161.579138</td>\n",
       "      <td>25.283713</td>\n",
       "      <td>-14.953985</td>\n",
       "    </tr>\n",
       "    <tr>\n",
       "      <th>2021-12-27</th>\n",
       "      <td>182.643087</td>\n",
       "      <td>174.775323</td>\n",
       "      <td>166.907560</td>\n",
       "      <td>73.632224</td>\n",
       "      <td>176.058568</td>\n",
       "      <td>175.455008</td>\n",
       "      <td>175.082127</td>\n",
       "      <td>174.478566</td>\n",
       "      <td>173.875006</td>\n",
       "      <td>176.662129</td>\n",
       "      <td>...</td>\n",
       "      <td>173.875006</td>\n",
       "      <td>176.662129</td>\n",
       "      <td>177.035009</td>\n",
       "      <td>177.638570</td>\n",
       "      <td>178.242131</td>\n",
       "      <td>6.135585e+09</td>\n",
       "      <td>159.328771</td>\n",
       "      <td>162.305468</td>\n",
       "      <td>25.621307</td>\n",
       "      <td>-5.207762</td>\n",
       "    </tr>\n",
       "    <tr>\n",
       "      <th>2021-12-28</th>\n",
       "      <td>182.567197</td>\n",
       "      <td>176.680896</td>\n",
       "      <td>170.794595</td>\n",
       "      <td>67.438857</td>\n",
       "      <td>179.196849</td>\n",
       "      <td>177.917152</td>\n",
       "      <td>177.126554</td>\n",
       "      <td>175.846858</td>\n",
       "      <td>174.567161</td>\n",
       "      <td>180.476545</td>\n",
       "      <td>...</td>\n",
       "      <td>174.567161</td>\n",
       "      <td>180.476545</td>\n",
       "      <td>181.267143</td>\n",
       "      <td>182.546839</td>\n",
       "      <td>183.826536</td>\n",
       "      <td>6.056440e+09</td>\n",
       "      <td>160.021110</td>\n",
       "      <td>162.962581</td>\n",
       "      <td>23.965524</td>\n",
       "      <td>-7.873096</td>\n",
       "    </tr>\n",
       "    <tr>\n",
       "      <th>2021-12-29</th>\n",
       "      <td>182.118037</td>\n",
       "      <td>177.957269</td>\n",
       "      <td>173.796502</td>\n",
       "      <td>67.732461</td>\n",
       "      <td>179.640620</td>\n",
       "      <td>178.571019</td>\n",
       "      <td>177.910218</td>\n",
       "      <td>176.840617</td>\n",
       "      <td>175.771016</td>\n",
       "      <td>180.710221</td>\n",
       "      <td>...</td>\n",
       "      <td>175.771016</td>\n",
       "      <td>180.710221</td>\n",
       "      <td>181.371022</td>\n",
       "      <td>182.440623</td>\n",
       "      <td>183.510224</td>\n",
       "      <td>6.118789e+09</td>\n",
       "      <td>160.681141</td>\n",
       "      <td>163.597451</td>\n",
       "      <td>22.580551</td>\n",
       "      <td>-8.337783</td>\n",
       "    </tr>\n",
       "    <tr>\n",
       "      <th>2021-12-30</th>\n",
       "      <td>181.558823</td>\n",
       "      <td>178.468619</td>\n",
       "      <td>175.378415</td>\n",
       "      <td>59.012133</td>\n",
       "      <td>179.307251</td>\n",
       "      <td>178.356069</td>\n",
       "      <td>177.768428</td>\n",
       "      <td>176.817245</td>\n",
       "      <td>175.866063</td>\n",
       "      <td>180.258433</td>\n",
       "      <td>...</td>\n",
       "      <td>175.866063</td>\n",
       "      <td>180.258433</td>\n",
       "      <td>180.846074</td>\n",
       "      <td>181.797256</td>\n",
       "      <td>182.748439</td>\n",
       "      <td>6.059016e+09</td>\n",
       "      <td>161.273522</td>\n",
       "      <td>164.161207</td>\n",
       "      <td>19.965102</td>\n",
       "      <td>-11.637048</td>\n",
       "    </tr>\n",
       "  </tbody>\n",
       "</table>\n",
       "<p>1258 rows × 72 columns</p>\n",
       "</div>"
      ],
      "text/plain": [
       "            5_BB_UPPER  5_BB_MIDDLE  5_BB_LOWER  5 period RSI     5_pivot  \\\n",
       "Date                                                                        \n",
       "2017-01-03         NaN          NaN         NaN           NaN         NaN   \n",
       "2017-01-04         NaN          NaN         NaN      0.000000   28.356730   \n",
       "2017-01-05         NaN          NaN         NaN     85.015097   28.444046   \n",
       "2017-01-06         NaN          NaN         NaN     95.515409   28.524434   \n",
       "2017-01-09   28.130021    27.529421   26.928821     97.404272   28.789609   \n",
       "...                ...          ...         ...           ...         ...   \n",
       "2021-12-23  178.555870   172.939664  167.323457     63.064880  174.475499   \n",
       "2021-12-27  182.643087   174.775323  166.907560     73.632224  176.058568   \n",
       "2021-12-28  182.567197   176.680896  170.794595     67.438857  179.196849   \n",
       "2021-12-29  182.118037   177.957269  173.796502     67.732461  179.640620   \n",
       "2021-12-30  181.558823   178.468619  175.378415     59.012133  179.307251   \n",
       "\n",
       "                  5_s1        5_s2        5_s3        5_s4        5_r1  ...  \\\n",
       "Date                                                                    ...   \n",
       "2017-01-03         NaN         NaN         NaN         NaN         NaN  ...   \n",
       "2017-01-04   28.206795   28.114165   27.964230   27.814295   28.506665  ...   \n",
       "2017-01-05   28.371466   28.326626   28.254045   28.181465   28.516626  ...   \n",
       "2017-01-06   28.424159   28.362209   28.261934   28.161658   28.624710  ...   \n",
       "2017-01-09   28.628214   28.528504   28.367109   28.205713   28.951005  ...   \n",
       "...                ...         ...         ...         ...         ...  ...   \n",
       "2021-12-23  173.058277  172.182715  170.765493  169.348270  175.892722  ...   \n",
       "2021-12-27  175.455008  175.082127  174.478566  173.875006  176.662129  ...   \n",
       "2021-12-28  177.917152  177.126554  175.846858  174.567161  180.476545  ...   \n",
       "2021-12-29  178.571019  177.910218  176.840617  175.771016  180.710221  ...   \n",
       "2021-12-30  178.356069  177.768428  176.817245  175.866063  180.258433  ...   \n",
       "\n",
       "                 50_s4       50_r1       50_r2       50_r3       50_r4  \\\n",
       "Date                                                                     \n",
       "2017-01-03         NaN         NaN         NaN         NaN         NaN   \n",
       "2017-01-04   27.814295   28.506665   28.599295   28.749230   28.899165   \n",
       "2017-01-05   28.181465   28.516626   28.561466   28.634047   28.706627   \n",
       "2017-01-06   28.161658   28.624710   28.686660   28.786935   28.887210   \n",
       "2017-01-09   28.205713   28.951005   29.050715   29.212110   29.373505   \n",
       "...                ...         ...         ...         ...         ...   \n",
       "2021-12-23  169.348270  175.892722  176.768284  178.185506  179.602729   \n",
       "2021-12-27  173.875006  176.662129  177.035009  177.638570  178.242131   \n",
       "2021-12-28  174.567161  180.476545  181.267143  182.546839  183.826536   \n",
       "2021-12-29  175.771016  180.710221  181.371022  182.440623  183.510224   \n",
       "2021-12-30  175.866063  180.258433  180.846074  181.797256  182.748439   \n",
       "\n",
       "                  50_OBV  50 period SMA  50 period EMA     50_ROC  \\\n",
       "Date                                                                \n",
       "2017-01-03           NaN            NaN      27.297689        NaN   \n",
       "2017-01-04 -8.447240e+07            NaN      27.282108        NaN   \n",
       "2017-01-05  4.302000e+06            NaN      27.325000        NaN   \n",
       "2017-01-06  1.313096e+08            NaN      27.427452        NaN   \n",
       "2017-01-09  2.655572e+08            NaN      27.543763        NaN   \n",
       "...                  ...            ...            ...        ...   \n",
       "2021-12-23  6.060665e+09     158.594117     161.579138  25.283713   \n",
       "2021-12-27  6.135585e+09     159.328771     162.305468  25.621307   \n",
       "2021-12-28  6.056440e+09     160.021110     162.962581  23.965524   \n",
       "2021-12-29  6.118789e+09     160.681141     163.597451  22.580551   \n",
       "2021-12-30  6.059016e+09     161.273522     164.161207  19.965102   \n",
       "\n",
       "            50 Williams %R  \n",
       "Date                        \n",
       "2017-01-03             NaN  \n",
       "2017-01-04             NaN  \n",
       "2017-01-05             NaN  \n",
       "2017-01-06             NaN  \n",
       "2017-01-09             NaN  \n",
       "...                    ...  \n",
       "2021-12-23      -14.953985  \n",
       "2021-12-27       -5.207762  \n",
       "2021-12-28       -7.873096  \n",
       "2021-12-29       -8.337783  \n",
       "2021-12-30      -11.637048  \n",
       "\n",
       "[1258 rows x 72 columns]"
      ]
     },
     "execution_count": 56,
     "metadata": {},
     "output_type": "execute_result"
    }
   ],
   "source": [
    "technical_indicators(panel_data)"
   ]
  },
  {
   "cell_type": "code",
   "execution_count": 57,
   "id": "ee301f66-299c-4c4d-a444-d9c8f23732c7",
   "metadata": {},
   "outputs": [],
   "source": [
    "def consol_data(df,days):\n",
    "    consol_data = technical_indicators(df)\n",
    "    consol_data[\"direction\"] = stock_direction(df,days)\n",
    "    consol_data.dropna(inplace = True)\n",
    "    return consol_data"
   ]
  },
  {
   "cell_type": "code",
   "execution_count": 58,
   "id": "c89043fb-f6cc-4456-abb5-d2b611d154ac",
   "metadata": {},
   "outputs": [
    {
     "name": "stdout",
     "output_type": "stream",
     "text": [
      "<class 'pandas.core.frame.DataFrame'>\n",
      "DatetimeIndex: 1203 entries, 2017-03-16 to 2021-12-27\n",
      "Data columns (total 73 columns):\n",
      " #   Column          Non-Null Count  Dtype  \n",
      "---  ------          --------------  -----  \n",
      " 0   5_BB_UPPER      1203 non-null   float64\n",
      " 1   5_BB_MIDDLE     1203 non-null   float64\n",
      " 2   5_BB_LOWER      1203 non-null   float64\n",
      " 3   5 period RSI    1203 non-null   float64\n",
      " 4   5_pivot         1203 non-null   float64\n",
      " 5   5_s1            1203 non-null   float64\n",
      " 6   5_s2            1203 non-null   float64\n",
      " 7   5_s3            1203 non-null   float64\n",
      " 8   5_s4            1203 non-null   float64\n",
      " 9   5_r1            1203 non-null   float64\n",
      " 10  5_r2            1203 non-null   float64\n",
      " 11  5_r3            1203 non-null   float64\n",
      " 12  5_r4            1203 non-null   float64\n",
      " 13  5_OBV           1203 non-null   float64\n",
      " 14  5 period SMA    1203 non-null   float64\n",
      " 15  5 period EMA    1203 non-null   float64\n",
      " 16  5_ROC           1203 non-null   float64\n",
      " 17  5 Williams %R   1203 non-null   float64\n",
      " 18  14_BB_UPPER     1203 non-null   float64\n",
      " 19  14_BB_MIDDLE    1203 non-null   float64\n",
      " 20  14_BB_LOWER     1203 non-null   float64\n",
      " 21  14 period RSI   1203 non-null   float64\n",
      " 22  14_pivot        1203 non-null   float64\n",
      " 23  14_s1           1203 non-null   float64\n",
      " 24  14_s2           1203 non-null   float64\n",
      " 25  14_s3           1203 non-null   float64\n",
      " 26  14_s4           1203 non-null   float64\n",
      " 27  14_r1           1203 non-null   float64\n",
      " 28  14_r2           1203 non-null   float64\n",
      " 29  14_r3           1203 non-null   float64\n",
      " 30  14_r4           1203 non-null   float64\n",
      " 31  14_OBV          1203 non-null   float64\n",
      " 32  14 period SMA   1203 non-null   float64\n",
      " 33  14 period EMA   1203 non-null   float64\n",
      " 34  14_ROC          1203 non-null   float64\n",
      " 35  14 Williams %R  1203 non-null   float64\n",
      " 36  21_BB_UPPER     1203 non-null   float64\n",
      " 37  21_BB_MIDDLE    1203 non-null   float64\n",
      " 38  21_BB_LOWER     1203 non-null   float64\n",
      " 39  21 period RSI   1203 non-null   float64\n",
      " 40  21_pivot        1203 non-null   float64\n",
      " 41  21_s1           1203 non-null   float64\n",
      " 42  21_s2           1203 non-null   float64\n",
      " 43  21_s3           1203 non-null   float64\n",
      " 44  21_s4           1203 non-null   float64\n",
      " 45  21_r1           1203 non-null   float64\n",
      " 46  21_r2           1203 non-null   float64\n",
      " 47  21_r3           1203 non-null   float64\n",
      " 48  21_r4           1203 non-null   float64\n",
      " 49  21_OBV          1203 non-null   float64\n",
      " 50  21 period SMA   1203 non-null   float64\n",
      " 51  21 period EMA   1203 non-null   float64\n",
      " 52  21_ROC          1203 non-null   float64\n",
      " 53  21 Williams %R  1203 non-null   float64\n",
      " 54  50_BB_UPPER     1203 non-null   float64\n",
      " 55  50_BB_MIDDLE    1203 non-null   float64\n",
      " 56  50_BB_LOWER     1203 non-null   float64\n",
      " 57  50 period RSI   1203 non-null   float64\n",
      " 58  50_pivot        1203 non-null   float64\n",
      " 59  50_s1           1203 non-null   float64\n",
      " 60  50_s2           1203 non-null   float64\n",
      " 61  50_s3           1203 non-null   float64\n",
      " 62  50_s4           1203 non-null   float64\n",
      " 63  50_r1           1203 non-null   float64\n",
      " 64  50_r2           1203 non-null   float64\n",
      " 65  50_r3           1203 non-null   float64\n",
      " 66  50_r4           1203 non-null   float64\n",
      " 67  50_OBV          1203 non-null   float64\n",
      " 68  50 period SMA   1203 non-null   float64\n",
      " 69  50 period EMA   1203 non-null   float64\n",
      " 70  50_ROC          1203 non-null   float64\n",
      " 71  50 Williams %R  1203 non-null   float64\n",
      " 72  direction       1203 non-null   float64\n",
      "dtypes: float64(73)\n",
      "memory usage: 695.5 KB\n"
     ]
    }
   ],
   "source": [
    "data = consol_data(panel_data,time_frame[0])\n",
    "data.info()"
   ]
  },
  {
   "cell_type": "markdown",
   "id": "512fa507-8510-427a-93f3-9f8a12dfad8a",
   "metadata": {},
   "source": [
    "Encoding data"
   ]
  },
  {
   "cell_type": "code",
   "execution_count": 59,
   "id": "b2ad7d9a-d4ce-4e60-ac3e-2c90200424e3",
   "metadata": {},
   "outputs": [
    {
     "data": {
      "text/html": [
       "<div>\n",
       "<style scoped>\n",
       "    .dataframe tbody tr th:only-of-type {\n",
       "        vertical-align: middle;\n",
       "    }\n",
       "\n",
       "    .dataframe tbody tr th {\n",
       "        vertical-align: top;\n",
       "    }\n",
       "\n",
       "    .dataframe thead th {\n",
       "        text-align: right;\n",
       "    }\n",
       "</style>\n",
       "<table border=\"1\" class=\"dataframe\">\n",
       "  <thead>\n",
       "    <tr style=\"text-align: right;\">\n",
       "      <th></th>\n",
       "      <th>5_BB_UPPER</th>\n",
       "      <th>5_BB_MIDDLE</th>\n",
       "      <th>5_BB_LOWER</th>\n",
       "      <th>5 period RSI</th>\n",
       "      <th>5_pivot</th>\n",
       "      <th>5_s1</th>\n",
       "      <th>5_s2</th>\n",
       "      <th>5_s3</th>\n",
       "      <th>5_s4</th>\n",
       "      <th>5_r1</th>\n",
       "      <th>...</th>\n",
       "      <th>50_s4</th>\n",
       "      <th>50_r1</th>\n",
       "      <th>50_r2</th>\n",
       "      <th>50_r3</th>\n",
       "      <th>50_r4</th>\n",
       "      <th>50_OBV</th>\n",
       "      <th>50 period SMA</th>\n",
       "      <th>50 period EMA</th>\n",
       "      <th>50_ROC</th>\n",
       "      <th>50 Williams %R</th>\n",
       "    </tr>\n",
       "    <tr>\n",
       "      <th>Date</th>\n",
       "      <th></th>\n",
       "      <th></th>\n",
       "      <th></th>\n",
       "      <th></th>\n",
       "      <th></th>\n",
       "      <th></th>\n",
       "      <th></th>\n",
       "      <th></th>\n",
       "      <th></th>\n",
       "      <th></th>\n",
       "      <th></th>\n",
       "      <th></th>\n",
       "      <th></th>\n",
       "      <th></th>\n",
       "      <th></th>\n",
       "      <th></th>\n",
       "      <th></th>\n",
       "      <th></th>\n",
       "      <th></th>\n",
       "      <th></th>\n",
       "      <th></th>\n",
       "    </tr>\n",
       "  </thead>\n",
       "  <tbody>\n",
       "    <tr>\n",
       "      <th>2017-03-16</th>\n",
       "      <td>33.356297</td>\n",
       "      <td>32.973840</td>\n",
       "      <td>32.591384</td>\n",
       "      <td>79.087478</td>\n",
       "      <td>34.366394</td>\n",
       "      <td>34.202134</td>\n",
       "      <td>34.100654</td>\n",
       "      <td>33.936394</td>\n",
       "      <td>33.772134</td>\n",
       "      <td>34.530654</td>\n",
       "      <td>...</td>\n",
       "      <td>33.772134</td>\n",
       "      <td>34.530654</td>\n",
       "      <td>34.632134</td>\n",
       "      <td>34.796394</td>\n",
       "      <td>34.960654</td>\n",
       "      <td>2.059894e+09</td>\n",
       "      <td>30.572748</td>\n",
       "      <td>31.583612</td>\n",
       "      <td>21.653013</td>\n",
       "      <td>-32.394760</td>\n",
       "    </tr>\n",
       "    <tr>\n",
       "      <th>2017-03-17</th>\n",
       "      <td>33.368670</td>\n",
       "      <td>33.013967</td>\n",
       "      <td>32.659264</td>\n",
       "      <td>59.714389</td>\n",
       "      <td>34.509487</td>\n",
       "      <td>34.436906</td>\n",
       "      <td>34.392066</td>\n",
       "      <td>34.319485</td>\n",
       "      <td>34.246904</td>\n",
       "      <td>34.582068</td>\n",
       "      <td>...</td>\n",
       "      <td>34.246904</td>\n",
       "      <td>34.582068</td>\n",
       "      <td>34.626909</td>\n",
       "      <td>34.699490</td>\n",
       "      <td>34.772071</td>\n",
       "      <td>1.884354e+09</td>\n",
       "      <td>30.688270</td>\n",
       "      <td>31.649022</td>\n",
       "      <td>21.183369</td>\n",
       "      <td>-35.093450</td>\n",
       "    </tr>\n",
       "    <tr>\n",
       "      <th>2017-03-20</th>\n",
       "      <td>33.551643</td>\n",
       "      <td>33.120657</td>\n",
       "      <td>32.689670</td>\n",
       "      <td>75.480739</td>\n",
       "      <td>34.421912</td>\n",
       "      <td>34.315907</td>\n",
       "      <td>34.250417</td>\n",
       "      <td>34.144412</td>\n",
       "      <td>34.038407</td>\n",
       "      <td>34.527917</td>\n",
       "      <td>...</td>\n",
       "      <td>34.038407</td>\n",
       "      <td>34.527917</td>\n",
       "      <td>34.593407</td>\n",
       "      <td>34.699412</td>\n",
       "      <td>34.805417</td>\n",
       "      <td>1.970522e+09</td>\n",
       "      <td>30.807958</td>\n",
       "      <td>31.726615</td>\n",
       "      <td>21.836285</td>\n",
       "      <td>-31.718531</td>\n",
       "    </tr>\n",
       "    <tr>\n",
       "      <th>2017-03-21</th>\n",
       "      <td>33.464374</td>\n",
       "      <td>33.160785</td>\n",
       "      <td>32.857196</td>\n",
       "      <td>49.041427</td>\n",
       "      <td>34.607571</td>\n",
       "      <td>34.486285</td>\n",
       "      <td>34.411355</td>\n",
       "      <td>34.290070</td>\n",
       "      <td>34.168784</td>\n",
       "      <td>34.728856</td>\n",
       "      <td>...</td>\n",
       "      <td>34.168784</td>\n",
       "      <td>34.728856</td>\n",
       "      <td>34.803786</td>\n",
       "      <td>34.925072</td>\n",
       "      <td>35.046357</td>\n",
       "      <td>1.812402e+09</td>\n",
       "      <td>30.913888</td>\n",
       "      <td>31.783406</td>\n",
       "      <td>19.113141</td>\n",
       "      <td>-43.317283</td>\n",
       "    </tr>\n",
       "    <tr>\n",
       "      <th>2017-03-22</th>\n",
       "      <td>33.567002</td>\n",
       "      <td>33.206103</td>\n",
       "      <td>32.845203</td>\n",
       "      <td>64.290662</td>\n",
       "      <td>34.546777</td>\n",
       "      <td>34.253591</td>\n",
       "      <td>34.072461</td>\n",
       "      <td>33.779275</td>\n",
       "      <td>33.486090</td>\n",
       "      <td>34.839963</td>\n",
       "      <td>...</td>\n",
       "      <td>33.486090</td>\n",
       "      <td>34.839963</td>\n",
       "      <td>35.021093</td>\n",
       "      <td>35.314279</td>\n",
       "      <td>35.607465</td>\n",
       "      <td>1.915843e+09</td>\n",
       "      <td>31.022200</td>\n",
       "      <td>31.853851</td>\n",
       "      <td>19.365622</td>\n",
       "      <td>-37.726373</td>\n",
       "    </tr>\n",
       "  </tbody>\n",
       "</table>\n",
       "<p>5 rows × 72 columns</p>\n",
       "</div>"
      ],
      "text/plain": [
       "            5_BB_UPPER  5_BB_MIDDLE  5_BB_LOWER  5 period RSI    5_pivot  \\\n",
       "Date                                                                       \n",
       "2017-03-16   33.356297    32.973840   32.591384     79.087478  34.366394   \n",
       "2017-03-17   33.368670    33.013967   32.659264     59.714389  34.509487   \n",
       "2017-03-20   33.551643    33.120657   32.689670     75.480739  34.421912   \n",
       "2017-03-21   33.464374    33.160785   32.857196     49.041427  34.607571   \n",
       "2017-03-22   33.567002    33.206103   32.845203     64.290662  34.546777   \n",
       "\n",
       "                 5_s1       5_s2       5_s3       5_s4       5_r1  ...  \\\n",
       "Date                                                               ...   \n",
       "2017-03-16  34.202134  34.100654  33.936394  33.772134  34.530654  ...   \n",
       "2017-03-17  34.436906  34.392066  34.319485  34.246904  34.582068  ...   \n",
       "2017-03-20  34.315907  34.250417  34.144412  34.038407  34.527917  ...   \n",
       "2017-03-21  34.486285  34.411355  34.290070  34.168784  34.728856  ...   \n",
       "2017-03-22  34.253591  34.072461  33.779275  33.486090  34.839963  ...   \n",
       "\n",
       "                50_s4      50_r1      50_r2      50_r3      50_r4  \\\n",
       "Date                                                                \n",
       "2017-03-16  33.772134  34.530654  34.632134  34.796394  34.960654   \n",
       "2017-03-17  34.246904  34.582068  34.626909  34.699490  34.772071   \n",
       "2017-03-20  34.038407  34.527917  34.593407  34.699412  34.805417   \n",
       "2017-03-21  34.168784  34.728856  34.803786  34.925072  35.046357   \n",
       "2017-03-22  33.486090  34.839963  35.021093  35.314279  35.607465   \n",
       "\n",
       "                  50_OBV  50 period SMA  50 period EMA     50_ROC  \\\n",
       "Date                                                                \n",
       "2017-03-16  2.059894e+09      30.572748      31.583612  21.653013   \n",
       "2017-03-17  1.884354e+09      30.688270      31.649022  21.183369   \n",
       "2017-03-20  1.970522e+09      30.807958      31.726615  21.836285   \n",
       "2017-03-21  1.812402e+09      30.913888      31.783406  19.113141   \n",
       "2017-03-22  1.915843e+09      31.022200      31.853851  19.365622   \n",
       "\n",
       "            50 Williams %R  \n",
       "Date                        \n",
       "2017-03-16      -32.394760  \n",
       "2017-03-17      -35.093450  \n",
       "2017-03-20      -31.718531  \n",
       "2017-03-21      -43.317283  \n",
       "2017-03-22      -37.726373  \n",
       "\n",
       "[5 rows x 72 columns]"
      ]
     },
     "execution_count": 59,
     "metadata": {},
     "output_type": "execute_result"
    }
   ],
   "source": [
    "# Create our features\n",
    "X = data.copy()\n",
    "X.drop(\"direction\", axis = 1, inplace = True)\n",
    "X.head()"
   ]
  },
  {
   "cell_type": "code",
   "execution_count": 60,
   "id": "f03fc002-ec79-4563-aae7-7bc145d4eb5f",
   "metadata": {},
   "outputs": [
    {
     "data": {
      "text/plain": [
       "array([[0.],\n",
       "       [1.],\n",
       "       [0.],\n",
       "       ...,\n",
       "       [1.],\n",
       "       [1.],\n",
       "       [0.]])"
      ]
     },
     "execution_count": 60,
     "metadata": {},
     "output_type": "execute_result"
    }
   ],
   "source": [
    "# Create our target\n",
    "y = data[\"direction\"].copy()\n",
    "y.values.reshape(-1,1)"
   ]
  },
  {
   "cell_type": "code",
   "execution_count": 61,
   "id": "24f272c5-20cd-4f4f-9162-76c6b63eab02",
   "metadata": {},
   "outputs": [
    {
     "data": {
      "text/plain": [
       "1.0    710\n",
       "0.0    493\n",
       "Name: direction, dtype: int64"
      ]
     },
     "execution_count": 61,
     "metadata": {},
     "output_type": "execute_result"
    }
   ],
   "source": [
    "# Checkout the balance of our target values\n",
    "y.value_counts() # It's not that imbalance, ok to proceed further"
   ]
  },
  {
   "cell_type": "markdown",
   "id": "f3dbd779-820e-4903-b633-7ba0377f4fe8",
   "metadata": {},
   "source": [
    "Split the data into Training and Testing"
   ]
  },
  {
   "cell_type": "code",
   "execution_count": 62,
   "id": "741ba109-c379-4acc-b78e-782d12db726c",
   "metadata": {},
   "outputs": [],
   "source": [
    "# Split the X and y into X_train, X_test, y_train, y_test\n",
    "# Use 70% of the data for training and the remainder for testing\n",
    "split = int(0.7 * len(X))\n",
    "X_train = X[: split]\n",
    "X_test = X[split:]\n",
    "y_train = y[: split]\n",
    "y_test = y[split:]"
   ]
  },
  {
   "cell_type": "markdown",
   "id": "d3b0057e-fe06-4632-be2d-2e432fb493f9",
   "metadata": {},
   "source": [
    "Scale the training and testing "
   ]
  },
  {
   "cell_type": "code",
   "execution_count": 63,
   "id": "6eeb755b-d957-4cdf-9d79-fb6a4ceefbbd",
   "metadata": {},
   "outputs": [],
   "source": [
    "# Create the StandardScaler instance\n",
    "scaler = StandardScaler()\n",
    "# Fit the Standard Scaler with the training data\n",
    "# # Scale the training and testing data\n",
    "X_train_scaled = scaler.fit_transform(X_train)\n",
    "X_test_scaled = scaler.transform(X_test)"
   ]
  },
  {
   "cell_type": "markdown",
   "id": "6a4f838e-6e05-411d-aab9-3feb53d92c86",
   "metadata": {},
   "source": [
    "### III. CHOOSING MODELS AND TRAINING MODEL"
   ]
  },
  {
   "cell_type": "markdown",
   "id": "cd34c558-ab64-493e-bdf9-72d592420268",
   "metadata": {},
   "source": [
    "#### 1. Model 1. Random Forest Classifier"
   ]
  },
  {
   "cell_type": "markdown",
   "id": "1099eb8c-6b50-49df-aa28-fec8382c00a0",
   "metadata": {},
   "source": [
    "Import dependent libraries"
   ]
  },
  {
   "cell_type": "code",
   "execution_count": 64,
   "id": "aa3bf266-31d3-4483-b081-a57db8c2badb",
   "metadata": {},
   "outputs": [],
   "source": [
    "# library for \n",
    "from sklearn.ensemble import RandomForestClassifier\n",
    "from sklearn.metrics import confusion_matrix, accuracy_score, classification_report, roc_curve, auc"
   ]
  },
  {
   "cell_type": "code",
   "execution_count": 65,
   "id": "cdeee963-341f-4e9b-8024-025269ebbbe8",
   "metadata": {},
   "outputs": [
    {
     "name": "stdout",
     "output_type": "stream",
     "text": [
      "Accuracy_score is 0.43213296398891965\n",
      "--------------------------------------------------\n",
      "Confusion Matrix\n",
      "[[156   0]\n",
      " [205   0]]\n",
      "--------------------------------------------------\n",
      "Classification Report\n",
      "              precision    recall  f1-score   support\n",
      "\n",
      "         0.0       0.43      1.00      0.60       156\n",
      "         1.0       0.00      0.00      0.00       205\n",
      "\n",
      "    accuracy                           0.43       361\n",
      "   macro avg       0.22      0.50      0.30       361\n",
      "weighted avg       0.19      0.43      0.26       361\n",
      "\n"
     ]
    }
   ],
   "source": [
    "rf_model = RandomForestClassifier(n_estimators = 250, random_state = 42)\n",
    "rf_model = rf_model.fit(X_train_scaled,y_train)\n",
    "y_train_pred = rf_model.predict(X_train_scaled)\n",
    "y_pred = rf_model.predict(X_test_scaled)\n",
    "print(f\"Accuracy_score is {accuracy_score(y_test,y_pred)}\")\n",
    "print(\"-\"*50)\n",
    "print(\"Confusion Matrix\")\n",
    "print(confusion_matrix(y_test, y_pred))\n",
    "print(\"-\"*50)\n",
    "print(\"Classification Report\")\n",
    "print(classification_report(y_test, y_pred))"
   ]
  },
  {
   "cell_type": "code",
   "execution_count": 66,
   "id": "e9ae4c3c-af72-4f24-9af2-4dc3aa77e488",
   "metadata": {},
   "outputs": [],
   "source": [
    "# Plot ROC for Random Forest Classifier\n",
    "fpr_train, tpr_train, thresholds_train = roc_curve(y_train, y_train_pred,pos_label=1)\n",
    "auc_train = auc(fpr_train, tpr_train)\n",
    "auc_train = round(auc_train, 4)\n",
    "#fpr_test, tpr_test, thresholds_test = roc_curve(y_test, y_pred,pos_label=1)\n",
    "fpr_test, tpr_test, thresholds_test = roc_curve(y_test, y_pred)\n",
    "auc_test = auc(fpr_test, tpr_test)\n",
    "auc_test = round(auc_test, 4)\n",
    "\n",
    "# Create a DataFrame with the fpr and tpr results\n",
    "roc_df_train = pd.DataFrame({\"FPR\": fpr_train, \"TPR\": tpr_train,})\n",
    "roc_df_test = pd.DataFrame({\"FPR\": fpr_test, \"TPR\": tpr_test})"
   ]
  },
  {
   "cell_type": "code",
   "execution_count": 67,
   "id": "c8a307a0-3eee-4ee8-b3be-2b32ff60aaac",
   "metadata": {},
   "outputs": [
    {
     "data": {
      "image/png": "[encoded data removed]",
      "text/plain": [
       "<Figure size 432x288 with 1 Axes>"
      ]
     },
     "metadata": {
      "needs_background": "light"
     },
     "output_type": "display_data"
    }
   ],
   "source": [
    "# Plot roc train\n",
    "plot_train = roc_df_train.plot(\n",
    "    x=\"FPR\",\n",
    "    y=\"TPR\",\n",
    "    xlim=([-0.05, 1.05]),\n",
    "    title=f\"Train ROC Curve (AUC={auc_train})-RF\",\n",
    ")"
   ]
  },
  {
   "cell_type": "code",
   "execution_count": 68,
   "id": "82762326-9377-430d-bae6-635d6d4bd8b7",
   "metadata": {},
   "outputs": [
    {
     "data": {
      "image/png": "[encoded data removed]",
      "text/plain": [
       "<Figure size 432x288 with 1 Axes>"
      ]
     },
     "metadata": {
      "needs_background": "light"
     },
     "output_type": "display_data"
    }
   ],
   "source": [
    "plot_test = roc_df_test.plot(\n",
    "    x=\"FPR\",\n",
    "    y=\"TPR\",\n",
    "    color=\"red\",\n",
    "    style=\"--\",\n",
    "    xlim=([-0.05, 1.05]),\n",
    "    title=f\"Test ROC Curve (AUC={auc_test})-RF\",\n",
    ")"
   ]
  },
  {
   "cell_type": "code",
   "execution_count": 69,
   "id": "a0fe1444-1d02-44e6-8fd4-c1f16fcb56cf",
   "metadata": {},
   "outputs": [
    {
     "data": {
      "text/html": [
       "<div>\n",
       "<style scoped>\n",
       "    .dataframe tbody tr th:only-of-type {\n",
       "        vertical-align: middle;\n",
       "    }\n",
       "\n",
       "    .dataframe tbody tr th {\n",
       "        vertical-align: top;\n",
       "    }\n",
       "\n",
       "    .dataframe thead th {\n",
       "        text-align: right;\n",
       "    }\n",
       "</style>\n",
       "<table border=\"1\" class=\"dataframe\">\n",
       "  <thead>\n",
       "    <tr style=\"text-align: right;\">\n",
       "      <th></th>\n",
       "      <th>0</th>\n",
       "      <th>1</th>\n",
       "    </tr>\n",
       "  </thead>\n",
       "  <tbody>\n",
       "    <tr>\n",
       "      <th>0</th>\n",
       "      <td>0.030967</td>\n",
       "      <td>14_ROC</td>\n",
       "    </tr>\n",
       "    <tr>\n",
       "      <th>1</th>\n",
       "      <td>0.029641</td>\n",
       "      <td>21 Williams %R</td>\n",
       "    </tr>\n",
       "    <tr>\n",
       "      <th>2</th>\n",
       "      <td>0.029580</td>\n",
       "      <td>21_ROC</td>\n",
       "    </tr>\n",
       "    <tr>\n",
       "      <th>3</th>\n",
       "      <td>0.029245</td>\n",
       "      <td>14 period RSI</td>\n",
       "    </tr>\n",
       "    <tr>\n",
       "      <th>4</th>\n",
       "      <td>0.027780</td>\n",
       "      <td>5 period RSI</td>\n",
       "    </tr>\n",
       "    <tr>\n",
       "      <th>...</th>\n",
       "      <td>...</td>\n",
       "      <td>...</td>\n",
       "    </tr>\n",
       "    <tr>\n",
       "      <th>67</th>\n",
       "      <td>0.006411</td>\n",
       "      <td>21_pivot</td>\n",
       "    </tr>\n",
       "    <tr>\n",
       "      <th>68</th>\n",
       "      <td>0.006328</td>\n",
       "      <td>5_s1</td>\n",
       "    </tr>\n",
       "    <tr>\n",
       "      <th>69</th>\n",
       "      <td>0.006294</td>\n",
       "      <td>5_r1</td>\n",
       "    </tr>\n",
       "    <tr>\n",
       "      <th>70</th>\n",
       "      <td>0.006292</td>\n",
       "      <td>5_r2</td>\n",
       "    </tr>\n",
       "    <tr>\n",
       "      <th>71</th>\n",
       "      <td>0.006066</td>\n",
       "      <td>5_pivot</td>\n",
       "    </tr>\n",
       "  </tbody>\n",
       "</table>\n",
       "<p>72 rows × 2 columns</p>\n",
       "</div>"
      ],
      "text/plain": [
       "           0               1\n",
       "0   0.030967          14_ROC\n",
       "1   0.029641  21 Williams %R\n",
       "2   0.029580          21_ROC\n",
       "3   0.029245   14 period RSI\n",
       "4   0.027780    5 period RSI\n",
       "..       ...             ...\n",
       "67  0.006411        21_pivot\n",
       "68  0.006328            5_s1\n",
       "69  0.006294            5_r1\n",
       "70  0.006292            5_r2\n",
       "71  0.006066         5_pivot\n",
       "\n",
       "[72 rows x 2 columns]"
      ]
     },
     "execution_count": 69,
     "metadata": {},
     "output_type": "execute_result"
    }
   ],
   "source": [
    "# List the features sorted in descending order by feature importance\n",
    "importances = rf_model.feature_importances_\n",
    "df_importances = pd.DataFrame(sorted(zip(rf_model.feature_importances_, X.columns), reverse= True))\n",
    "df_importances"
   ]
  },
  {
   "cell_type": "code",
   "execution_count": 70,
   "id": "716cad7c-4089-4ab9-8834-d45b7d4c52ab",
   "metadata": {},
   "outputs": [],
   "source": [
    "# Define the variable importance plot\n",
    "def variable_importance(df):\n",
    "    plot = df.hvplot.barh(\"1\", stacked=True, height=1200)\n",
    "    return plot"
   ]
  },
  {
   "cell_type": "code",
   "execution_count": 71,
   "id": "6202a0cc-edf5-4246-abab-08bbbcd97b89",
   "metadata": {},
   "outputs": [
    {
     "data": {},
     "metadata": {},
     "output_type": "display_data"
    },
    {
     "data": {
      "application/vnd.holoviews_exec.v0+json": "",
      "text/html": [
       "<div id='1123'>\n",
       "\n",
       "\n",
       "\n",
       "\n",
       "\n",
       "  <div class=\"bk-root\" id=\"98e54759-2a3f-4266-84fc-c261774b9371\" data-root-id=\"1123\"></div>\n",
       "</div>\n",
       "<script type=\"application/javascript\">(function(root) {\n",
       "  function embed_document(root) {\n",
       "    var docs_json = {\"dd38c0b6-b24e-4edd-bf23-cb6ab6690cdb\":{\"defs\":[{\"extends\":null,\"module\":null,\"name\":\"ReactiveHTML1\",\"overrides\":[],\"properties\":[]},{\"extends\":null,\"module\":null,\"name\":\"FlexBox1\",\"overrides\":[],\"properties\":[{\"default\":\"flex-start\",\"kind\":null,\"name\":\"align_content\"},{\"default\":\"flex-start\",\"kind\":null,\"name\":\"align_items\"},{\"default\":\"row\",\"kind\":null,\"name\":\"flex_direction\"},{\"default\":\"wrap\",\"kind\":null,\"name\":\"flex_wrap\"},{\"default\":\"flex-start\",\"kind\":null,\"name\":\"justify_content\"}]},{\"extends\":null,\"module\":null,\"name\":\"TemplateActions1\",\"overrides\":[],\"properties\":[{\"default\":0,\"kind\":null,\"name\":\"open_modal\"},{\"default\":0,\"kind\":null,\"name\":\"close_modal\"}]},{\"extends\":null,\"module\":null,\"name\":\"MaterialTemplateActions1\",\"overrides\":[],\"properties\":[{\"default\":0,\"kind\":null,\"name\":\"open_modal\"},{\"default\":0,\"kind\":null,\"name\":\"close_modal\"}]}],\"roots\":{\"references\":[{\"attributes\":{\"below\":[{\"id\":\"1137\"}],\"center\":[{\"id\":\"1140\"},{\"id\":\"1143\"}],\"height\":1200,\"left\":[{\"id\":\"1141\"}],\"margin\":[5,5,5,5],\"min_border_bottom\":10,\"min_border_left\":10,\"min_border_right\":10,\"min_border_top\":10,\"renderers\":[{\"id\":\"1163\"}],\"sizing_mode\":\"fixed\",\"title\":{\"id\":\"1129\"},\"toolbar\":{\"id\":\"1150\"},\"width\":700,\"x_range\":{\"id\":\"1125\"},\"x_scale\":{\"id\":\"1133\"},\"y_range\":{\"id\":\"1126\"},\"y_scale\":{\"id\":\"1135\"}},\"id\":\"1128\",\"subtype\":\"Figure\",\"type\":\"Plot\"},{\"attributes\":{},\"id\":\"1135\",\"type\":\"CategoricalScale\"},{\"attributes\":{},\"id\":\"1171\",\"type\":\"AllLabels\"},{\"attributes\":{\"bottom_units\":\"screen\",\"coordinates\":null,\"fill_alpha\":0.5,\"fill_color\":\"lightgrey\",\"group\":null,\"left_units\":\"screen\",\"level\":\"overlay\",\"line_alpha\":1.0,\"line_color\":\"black\",\"line_dash\":[4,4],\"line_width\":2,\"right_units\":\"screen\",\"syncable\":false,\"top_units\":\"screen\"},\"id\":\"1149\",\"type\":\"BoxAnnotation\"},{\"attributes\":{\"data\":{\"A_0\":{\"__ndarray__\":\"3Vc+3ui1nz9BfucBR1qeP/bpzN0ZSp4/4ULSiILynT/V1wU3T3KcP78keyHrVJs/3qK2nJY9mz8d5TPVKa2aP7SZOlkjhpk/hSt3XwtImT/SwQUrscyYP/bZWIuUUJg/GPO/u9yJlz9lzTUvB4iXP6Nklmeod5c/i/+FVGwxlz+M9fAFvXqWP7W+bY9a/5U/P8GeIKYAlT+yg70SXSSUP4q3gJ6rLZM/yORY6PQ4kT8pXJ2ox6iQP/iRHcFMgpA/LVoTU/fKjz8X+Qa4bMKOP73+JhwL6Y0/d83tfzTKjT+zjX7pbImNP8vcMIlMCIw/TidOtLzziz8dIdF8nbOJPx27LZN9n4c/xmKG0eDjhj9lmEBuBZSGP/L4eEXtKIU/DCIIQJbohD/VClsDbcmEP1KpFK1gaIQ/C/VEqe88hD8QU+0Vt7WDP+/IYwgpI4I/8A1dn+sEgj97S2yb3j2BPyXQweeBxYA/qI81ZgmcgD+Nh3GIx4KAP0sjkvkDPIA/+e4d+pcKgD+osQauARR/PySwK2Urz34/ESXyNATEfj/3coOqgGF+PxJTI1l3S34/Xzx8haD9fT8z50ww3NZ9P/PLeM6Kmn0/VhhYyGMNfT9Z6fEf9Od8P5Z3j8e/4nw/MLf0SlJrfD9XXDjhXl18P5CKOmmkMnw/Yfq9P1MRez/jL9LbgOx6P4NmPWK8bno/N8XrZG1hej9ZmVdpZUJ6P+BxqQUL63k/x3n1ETzIeT9iJxG2YMV5P5Durg1d2Hg/\",\"dtype\":\"float64\",\"order\":\"little\",\"shape\":[72]},\"A_1\":[\"14_ROC\",\"21 Williams %R\",\"21_ROC\",\"14 period RSI\",\"5 period RSI\",\"5_ROC\",\"5 Williams %R\",\"21 period RSI\",\"50 Williams %R\",\"50_OBV\",\"50_ROC\",\"5_OBV\",\"14 Williams %R\",\"21_OBV\",\"50_BB_LOWER\",\"50 period RSI\",\"14_OBV\",\"21_BB_LOWER\",\"50_BB_MIDDLE\",\"50 period SMA\",\"14_BB_LOWER\",\"50_BB_UPPER\",\"14_BB_UPPER\",\"5_BB_LOWER\",\"21_BB_UPPER\",\"50 period EMA\",\"21_BB_MIDDLE\",\"5_BB_UPPER\",\"21 period SMA\",\"21 period EMA\",\"14_BB_MIDDLE\",\"14 period SMA\",\"5_s4\",\"50_s4\",\"5_BB_MIDDLE\",\"14 period EMA\",\"5 period SMA\",\"21_s4\",\"14_s4\",\"5 period EMA\",\"50_r4\",\"50_s3\",\"21_s1\",\"21_r4\",\"14_r3\",\"5_s3\",\"5_r4\",\"14_s2\",\"21_s3\",\"21_r3\",\"14_r2\",\"14_s1\",\"50_s2\",\"50_r3\",\"21_r2\",\"14_s3\",\"14_r4\",\"21_r1\",\"5_r3\",\"5_s2\",\"50_r1\",\"14_r1\",\"50_s1\",\"50_pivot\",\"50_r2\",\"21_s2\",\"14_pivot\",\"21_pivot\",\"5_s1\",\"5_r1\",\"5_r2\",\"5_pivot\"]},\"selected\":{\"id\":\"1158\"},\"selection_policy\":{\"id\":\"1179\"}},\"id\":\"1157\",\"type\":\"ColumnDataSource\"},{\"attributes\":{\"factors\":[\"14_ROC\",\"21 Williams %R\",\"21_ROC\",\"14 period RSI\",\"5 period RSI\",\"5_ROC\",\"5 Williams %R\",\"21 period RSI\",\"50 Williams %R\",\"50_OBV\",\"50_ROC\",\"5_OBV\",\"14 Williams %R\",\"21_OBV\",\"50_BB_LOWER\",\"50 period RSI\",\"14_OBV\",\"21_BB_LOWER\",\"50_BB_MIDDLE\",\"50 period SMA\",\"14_BB_LOWER\",\"50_BB_UPPER\",\"14_BB_UPPER\",\"5_BB_LOWER\",\"21_BB_UPPER\",\"50 period EMA\",\"21_BB_MIDDLE\",\"5_BB_UPPER\",\"21 period SMA\",\"21 period EMA\",\"14_BB_MIDDLE\",\"14 period SMA\",\"5_s4\",\"50_s4\",\"5_BB_MIDDLE\",\"14 period EMA\",\"5 period SMA\",\"21_s4\",\"14_s4\",\"5 period EMA\",\"50_r4\",\"50_s3\",\"21_s1\",\"21_r4\",\"14_r3\",\"5_s3\",\"5_r4\",\"14_s2\",\"21_s3\",\"21_r3\",\"14_r2\",\"14_s1\",\"50_s2\",\"50_r3\",\"21_r2\",\"14_s3\",\"14_r4\",\"21_r1\",\"5_r3\",\"5_s2\",\"50_r1\",\"14_r1\",\"50_s1\",\"50_pivot\",\"50_r2\",\"21_s2\",\"14_pivot\",\"21_pivot\",\"5_s1\",\"5_r1\",\"5_r2\",\"5_pivot\"],\"tags\":[[[\"1\",\"1\",null]]]},\"id\":\"1126\",\"type\":\"FactorRange\"},{\"attributes\":{},\"id\":\"1168\",\"type\":\"AllLabels\"},{\"attributes\":{},\"id\":\"1138\",\"type\":\"BasicTicker\"},{\"attributes\":{\"fill_alpha\":{\"value\":0.1},\"fill_color\":{\"value\":\"#30a2da\"},\"hatch_alpha\":{\"value\":0.1},\"hatch_color\":{\"value\":\"#30a2da\"},\"height\":{\"value\":0.8},\"line_alpha\":{\"value\":0.1},\"right\":{\"field\":\"A_0\"},\"y\":{\"field\":\"A_1\"}},\"id\":\"1161\",\"type\":\"HBar\"},{\"attributes\":{\"callback\":null,\"renderers\":[{\"id\":\"1163\"}],\"tags\":[\"hv_created\"],\"tooltips\":[[\"1\",\"@{A_1}\"],[\"0\",\"@{A_0}\"]]},\"id\":\"1127\",\"type\":\"HoverTool\"},{\"attributes\":{\"coordinates\":null,\"data_source\":{\"id\":\"1157\"},\"glyph\":{\"id\":\"1160\"},\"group\":null,\"hover_glyph\":null,\"muted_glyph\":{\"id\":\"1162\"},\"nonselection_glyph\":{\"id\":\"1161\"},\"selection_glyph\":{\"id\":\"1165\"},\"view\":{\"id\":\"1164\"}},\"id\":\"1163\",\"type\":\"GlyphRenderer\"},{\"attributes\":{\"margin\":[5,5,5,5],\"name\":\"HSpacer01923\",\"sizing_mode\":\"stretch_width\"},\"id\":\"1124\",\"type\":\"Spacer\"},{\"attributes\":{\"fill_alpha\":{\"value\":1.0},\"fill_color\":{\"value\":\"#30a2da\"},\"hatch_alpha\":{\"value\":1.0},\"hatch_color\":{\"value\":\"#30a2da\"},\"hatch_scale\":{\"value\":12.0},\"hatch_weight\":{\"value\":1.0},\"height\":{\"value\":0.8},\"left\":{\"value\":0},\"line_alpha\":{\"value\":1.0},\"line_cap\":{\"value\":\"butt\"},\"line_color\":{\"value\":\"black\"},\"line_dash\":{\"value\":[]},\"line_dash_offset\":{\"value\":0},\"line_join\":{\"value\":\"bevel\"},\"line_width\":{\"value\":1},\"right\":{\"field\":\"A_0\"},\"y\":{\"field\":\"A_1\"}},\"id\":\"1165\",\"type\":\"HBar\"},{\"attributes\":{\"children\":[{\"id\":\"1124\"},{\"id\":\"1128\"},{\"id\":\"1192\"}],\"margin\":[0,0,0,0],\"name\":\"Row01919\",\"tags\":[\"embedded\"]},\"id\":\"1123\",\"type\":\"Row\"},{\"attributes\":{\"fill_alpha\":{\"value\":0.2},\"fill_color\":{\"value\":\"#30a2da\"},\"hatch_alpha\":{\"value\":0.2},\"hatch_color\":{\"value\":\"#30a2da\"},\"height\":{\"value\":0.8},\"line_alpha\":{\"value\":0.2},\"right\":{\"field\":\"A_0\"},\"y\":{\"field\":\"A_1\"}},\"id\":\"1162\",\"type\":\"HBar\"},{\"attributes\":{\"source\":{\"id\":\"1157\"}},\"id\":\"1164\",\"type\":\"CDSView\"},{\"attributes\":{\"end\":0.033457532951480115,\"reset_end\":0.033457532951480115,\"reset_start\":0.0,\"tags\":[[[\"0\",\"0\",null]]]},\"id\":\"1125\",\"type\":\"Range1d\"},{\"attributes\":{},\"id\":\"1145\",\"type\":\"PanTool\"},{\"attributes\":{},\"id\":\"1167\",\"type\":\"BasicTickFormatter\"},{\"attributes\":{},\"id\":\"1146\",\"type\":\"WheelZoomTool\"},{\"attributes\":{},\"id\":\"1148\",\"type\":\"ResetTool\"},{\"attributes\":{\"fill_color\":{\"value\":\"#30a2da\"},\"hatch_color\":{\"value\":\"#30a2da\"},\"height\":{\"value\":0.8},\"right\":{\"field\":\"A_0\"},\"y\":{\"field\":\"A_1\"}},\"id\":\"1160\",\"type\":\"HBar\"},{\"attributes\":{},\"id\":\"1170\",\"type\":\"CategoricalTickFormatter\"},{\"attributes\":{\"axis_label\":\"1\",\"coordinates\":null,\"formatter\":{\"id\":\"1170\"},\"group\":null,\"major_label_policy\":{\"id\":\"1171\"},\"ticker\":{\"id\":\"1142\"}},\"id\":\"1141\",\"type\":\"CategoricalAxis\"},{\"attributes\":{},\"id\":\"1144\",\"type\":\"SaveTool\"},{\"attributes\":{},\"id\":\"1179\",\"type\":\"UnionRenderers\"},{\"attributes\":{\"tools\":[{\"id\":\"1127\"},{\"id\":\"1144\"},{\"id\":\"1145\"},{\"id\":\"1146\"},{\"id\":\"1147\"},{\"id\":\"1148\"}]},\"id\":\"1150\",\"type\":\"Toolbar\"},{\"attributes\":{},\"id\":\"1158\",\"type\":\"Selection\"},{\"attributes\":{\"overlay\":{\"id\":\"1149\"}},\"id\":\"1147\",\"type\":\"BoxZoomTool\"},{\"attributes\":{},\"id\":\"1133\",\"type\":\"LinearScale\"},{\"attributes\":{},\"id\":\"1142\",\"type\":\"CategoricalTicker\"},{\"attributes\":{\"axis_label\":\"0\",\"coordinates\":null,\"formatter\":{\"id\":\"1167\"},\"group\":null,\"major_label_policy\":{\"id\":\"1168\"},\"ticker\":{\"id\":\"1138\"}},\"id\":\"1137\",\"type\":\"LinearAxis\"},{\"attributes\":{\"axis\":{\"id\":\"1141\"},\"coordinates\":null,\"dimension\":1,\"grid_line_color\":null,\"group\":null,\"ticker\":null},\"id\":\"1143\",\"type\":\"Grid\"},{\"attributes\":{\"coordinates\":null,\"group\":null,\"text_color\":\"black\",\"text_font_size\":\"12pt\"},\"id\":\"1129\",\"type\":\"Title\"},{\"attributes\":{\"margin\":[5,5,5,5],\"name\":\"HSpacer01924\",\"sizing_mode\":\"stretch_width\"},\"id\":\"1192\",\"type\":\"Spacer\"},{\"attributes\":{\"axis\":{\"id\":\"1137\"},\"coordinates\":null,\"grid_line_color\":null,\"group\":null,\"ticker\":null},\"id\":\"1140\",\"type\":\"Grid\"}],\"root_ids\":[\"1123\"]},\"title\":\"Bokeh Application\",\"version\":\"2.4.2\"}};\n",
       "    var render_items = [{\"docid\":\"dd38c0b6-b24e-4edd-bf23-cb6ab6690cdb\",\"root_ids\":[\"1123\"],\"roots\":{\"1123\":\"98e54759-2a3f-4266-84fc-c261774b9371\"}}];\n",
       "    root.Bokeh.embed.embed_items_notebook(docs_json, render_items);\n",
       "  }\n",
       "  if (root.Bokeh !== undefined && root.Bokeh.Panel !== undefined) {\n",
       "    embed_document(root);\n",
       "  } else {\n",
       "    var attempts = 0;\n",
       "    var timer = setInterval(function(root) {\n",
       "      if (root.Bokeh !== undefined && root.Bokeh.Panel !== undefined) {\n",
       "        clearInterval(timer);\n",
       "        embed_document(root);\n",
       "      } else if (document.readyState == \"complete\") {\n",
       "        attempts++;\n",
       "        if (attempts > 200) {\n",
       "          clearInterval(timer);\n",
       "          console.log(\"Bokeh: ERROR: Unable to run BokehJS code because BokehJS library is missing\");\n",
       "        }\n",
       "      }\n",
       "    }, 25, root)\n",
       "  }\n",
       "})(window);</script>"
      ],
      "text/plain": [
       ":Bars   [1]   (0)"
      ]
     },
     "execution_count": 71,
     "metadata": {
      "application/vnd.holoviews_exec.v0+json": {
       "id": "1123"
      }
     },
     "output_type": "execute_result"
    }
   ],
   "source": [
    "# Plot the importance level \n",
    "variable_importance(df_importances)"
   ]
  },
  {
   "cell_type": "markdown",
   "id": "2b005f84-e040-424a-923c-877b15d16806",
   "metadata": {},
   "source": [
    "#### 2. Model 2......"
   ]
  },
  {
   "cell_type": "code",
   "execution_count": 72,
   "id": "becfd0e3-ef59-4077-8b88-c77d5f25de0a",
   "metadata": {},
   "outputs": [
    {
     "data": {
      "text/plain": [
       "LogisticRegression(random_state=42)"
      ]
     },
     "execution_count": 72,
     "metadata": {},
     "output_type": "execute_result"
    }
   ],
   "source": [
    "#Using logistic Regression\n",
    "from sklearn.linear_model import LogisticRegression\n",
    "model = LogisticRegression(solver='lbfgs', random_state=42)\n",
    "model.fit(X_train_scaled, y_train)"
   ]
  },
  {
   "cell_type": "code",
   "execution_count": 73,
   "id": "39d5d864-31cf-4127-8a64-e76706f75f22",
   "metadata": {},
   "outputs": [
    {
     "name": "stdout",
     "output_type": "stream",
     "text": [
      "0.5512465373961218\n"
     ]
    }
   ],
   "source": [
    "#Calculate accuracy score\n",
    "y_pred_2 = model.predict(X_test_scaled)\n",
    "print(accuracy_score(y_test, y_pred_2))\n",
    "\n"
   ]
  },
  {
   "cell_type": "code",
   "execution_count": 74,
   "id": "933383b4-c411-4e64-8ab5-9e1ca9f41327",
   "metadata": {},
   "outputs": [
    {
     "data": {
      "text/plain": [
       "array([[ 23, 133],\n",
       "       [ 29, 176]], dtype=int64)"
      ]
     },
     "execution_count": 74,
     "metadata": {},
     "output_type": "execute_result"
    }
   ],
   "source": [
    "#Display confusion matrix\n",
    "confusion_matrix(y_test, y_pred_2)"
   ]
  },
  {
   "cell_type": "code",
   "execution_count": 75,
   "id": "9f3ff420-87d9-498c-a39a-63037588488c",
   "metadata": {},
   "outputs": [
    {
     "name": "stdout",
     "output_type": "stream",
     "text": [
      "              precision    recall  f1-score   support\n",
      "\n",
      "         0.0       0.44      0.15      0.22       156\n",
      "         1.0       0.57      0.86      0.68       205\n",
      "\n",
      "    accuracy                           0.55       361\n",
      "   macro avg       0.51      0.50      0.45       361\n",
      "weighted avg       0.51      0.55      0.48       361\n",
      "\n"
     ]
    }
   ],
   "source": [
    "#Print classification report\n",
    "print(classification_report(y_test, y_pred_2))"
   ]
  },
  {
   "cell_type": "code",
   "execution_count": 76,
   "id": "76f6a6c6",
   "metadata": {},
   "outputs": [],
   "source": [
    "#Using Gradient Boosting Classifier\n",
    "from sklearn.ensemble import GradientBoostingClassifier"
   ]
  },
  {
   "cell_type": "code",
   "execution_count": 77,
   "id": "61794c9d",
   "metadata": {},
   "outputs": [
    {
     "name": "stdout",
     "output_type": "stream",
     "text": [
      "Learning Rate:  0.05\n",
      "Accuracy score (training): 0.608\n",
      "Accuracy score (validation): 0.507\n",
      "\n",
      "Learning Rate:  0.1\n",
      "Accuracy score (training): 0.615\n",
      "Accuracy score (validation): 0.515\n",
      "\n",
      "Learning Rate:  0.25\n",
      "Accuracy score (training): 0.654\n",
      "Accuracy score (validation): 0.468\n",
      "\n",
      "Learning Rate:  0.5\n",
      "Accuracy score (training): 0.701\n",
      "Accuracy score (validation): 0.440\n",
      "\n",
      "Learning Rate:  0.75\n",
      "Accuracy score (training): 0.733\n",
      "Accuracy score (validation): 0.435\n",
      "\n",
      "Learning Rate:  1\n",
      "Accuracy score (training): 0.752\n",
      "Accuracy score (validation): 0.438\n",
      "\n"
     ]
    }
   ],
   "source": [
    "#choosing learning rates\n",
    "learning_rates = [0.05, 0.1, 0.25, 0.5, 0.75, 1]\n",
    "for learning_rate in learning_rates:\n",
    "    model_2 = GradientBoostingClassifier(\n",
    "        n_estimators=10,\n",
    "        learning_rate=learning_rate,\n",
    "        max_features='log2',\n",
    "        max_depth=2,\n",
    "        random_state=42)\n",
    "    model_2.fit(X_train_scaled, y_train.ravel())\n",
    "    print('Learning Rate: ', learning_rate)\n",
    "\n",
    "    #Score the model\n",
    "    print(\"Accuracy score (training): {0:.3f}\".format(\n",
    "        model_2.score(\n",
    "            X_train_scaled,\n",
    "            y_train.ravel())))\n",
    "    print(\"Accuracy score (validation): {0:.3f}\".format(\n",
    "        model_2.score(\n",
    "            X_test_scaled,\n",
    "            y_test.ravel())))\n",
    "    print()"
   ]
  },
  {
   "cell_type": "code",
   "execution_count": 78,
   "id": "614e7956",
   "metadata": {},
   "outputs": [
    {
     "name": "stdout",
     "output_type": "stream",
     "text": [
      "      Iter       Train Loss   Remaining Time \n",
      "         1           1.3389            0.02s\n",
      "         2           1.3338            0.02s\n",
      "         3           1.3294            0.02s\n",
      "         4           1.3255            0.01s\n",
      "         5           1.3203            0.01s\n",
      "         6           1.3155            0.01s\n",
      "         7           1.3124            0.01s\n",
      "         8           1.3071            0.00s\n",
      "         9           1.3046            0.00s\n",
      "        10           1.2987            0.00s\n"
     ]
    },
    {
     "data": {
      "text/plain": [
       "GradientBoostingClassifier(max_depth=2, max_features='log2', n_estimators=10,\n",
       "                           random_state=42, verbose=True)"
      ]
     },
     "execution_count": 78,
     "metadata": {},
     "output_type": "execute_result"
    }
   ],
   "source": [
    "#building the model using grading boosting classifier\n",
    "model_2 = GradientBoostingClassifier(\n",
    "    n_estimators=10,\n",
    "    learning_rate=0.1,\n",
    "    max_features='log2',\n",
    "    max_depth=2,\n",
    "    random_state=42,\n",
    "    verbose=True)\n",
    "#fitting the model\n",
    "model_2.fit(X_train_scaled, y_train.ravel())"
   ]
  },
  {
   "cell_type": "code",
   "execution_count": 79,
   "id": "007224ed",
   "metadata": {},
   "outputs": [
    {
     "data": {
      "text/plain": [
       "0.5152354570637119"
      ]
     },
     "execution_count": 79,
     "metadata": {},
     "output_type": "execute_result"
    }
   ],
   "source": [
    "#Make predictions\n",
    "predictions =model_2.predict(X_test_scaled)\n",
    "\n",
    "#Generating accuracy score\n",
    "accuracy_score(y_test, predictions)"
   ]
  },
  {
   "cell_type": "code",
   "execution_count": 82,
   "id": "d24125a6",
   "metadata": {},
   "outputs": [
    {
     "data": {
      "text/html": [
       "<div>\n",
       "<style scoped>\n",
       "    .dataframe tbody tr th:only-of-type {\n",
       "        vertical-align: middle;\n",
       "    }\n",
       "\n",
       "    .dataframe tbody tr th {\n",
       "        vertical-align: top;\n",
       "    }\n",
       "\n",
       "    .dataframe thead th {\n",
       "        text-align: right;\n",
       "    }\n",
       "</style>\n",
       "<table border=\"1\" class=\"dataframe\">\n",
       "  <thead>\n",
       "    <tr style=\"text-align: right;\">\n",
       "      <th></th>\n",
       "      <th>Predicted 0</th>\n",
       "      <th>Predicted 1</th>\n",
       "    </tr>\n",
       "  </thead>\n",
       "  <tbody>\n",
       "    <tr>\n",
       "      <th>Actual 0</th>\n",
       "      <td>113</td>\n",
       "      <td>43</td>\n",
       "    </tr>\n",
       "    <tr>\n",
       "      <th>Actual 1</th>\n",
       "      <td>132</td>\n",
       "      <td>73</td>\n",
       "    </tr>\n",
       "  </tbody>\n",
       "</table>\n",
       "</div>"
      ],
      "text/plain": [
       "          Predicted 0  Predicted 1\n",
       "Actual 0          113           43\n",
       "Actual 1          132           73"
      ]
     },
     "metadata": {},
     "output_type": "display_data"
    }
   ],
   "source": [
    "#Evaluating the model using confusion matrix\n",
    "cm = confusion_matrix(y_test, predictions)\n",
    "cm_df = pd.DataFrame(\n",
    "    cm, index=['Actual 0', 'Actual 1'], columns=['Predicted 0', 'Predicted 1']\n",
    ")\n",
    "display(cm_df)"
   ]
  },
  {
   "cell_type": "code",
   "execution_count": 81,
   "id": "bbb32bf5",
   "metadata": {},
   "outputs": [
    {
     "name": "stdout",
     "output_type": "stream",
     "text": [
      "              precision    recall  f1-score   support\n",
      "\n",
      "         0.0       0.46      0.72      0.56       156\n",
      "         1.0       0.63      0.36      0.45       205\n",
      "\n",
      "    accuracy                           0.52       361\n",
      "   macro avg       0.55      0.54      0.51       361\n",
      "weighted avg       0.56      0.52      0.50       361\n",
      "\n"
     ]
    }
   ],
   "source": [
    "#Generating classification report\n",
    "print(classification_report(y_test, predictions))"
   ]
  },
  {
   "cell_type": "markdown",
   "id": "6fc00857-4bab-447b-968d-6fedfd412436",
   "metadata": {},
   "source": [
    "#### 3. Model 3......"
   ]
  },
  {
   "cell_type": "code",
   "execution_count": null,
   "id": "7f48a441",
   "metadata": {},
   "outputs": [],
   "source": []
  },
  {
   "cell_type": "code",
   "execution_count": null,
   "id": "ced7006e-9cdc-4454-8480-d80304fb5edc",
   "metadata": {},
   "outputs": [],
   "source": []
  },
  {
   "cell_type": "code",
   "execution_count": null,
   "id": "3afa84f2-ddf6-45ba-a6d8-8b20108f26a9",
   "metadata": {},
   "outputs": [],
   "source": []
  },
  {
   "cell_type": "code",
   "execution_count": null,
   "id": "b95a893c-1725-47e2-9db9-a6825fd4faf3",
   "metadata": {},
   "outputs": [],
   "source": []
  },
  {
   "cell_type": "code",
   "execution_count": null,
   "id": "2f1b9cf0-94b4-4108-bdb0-0627b84fa0d3",
   "metadata": {},
   "outputs": [],
   "source": []
  },
  {
   "cell_type": "markdown",
   "id": "cdc77fc1-9dcd-499c-ac35-566427f6a4d6",
   "metadata": {},
   "source": [
    "#### 4. Model 4......"
   ]
  },
  {
   "cell_type": "code",
   "execution_count": null,
   "id": "22c0b50d-cc6d-4cc4-801d-c96ca57d8a35",
   "metadata": {},
   "outputs": [],
   "source": []
  },
  {
   "cell_type": "code",
   "execution_count": null,
   "id": "c0099326-87c7-473e-95eb-f37fc5a053c0",
   "metadata": {},
   "outputs": [],
   "source": []
  },
  {
   "cell_type": "code",
   "execution_count": null,
   "id": "4e067cf8-fd0e-458f-bf5c-52156185d545",
   "metadata": {},
   "outputs": [],
   "source": []
  },
  {
   "cell_type": "markdown",
   "id": "9681d774-6d7c-4cda-aca3-2fae9a16f0f2",
   "metadata": {},
   "source": [
    "#### 5. Model 5 ......"
   ]
  },
  {
   "cell_type": "code",
   "execution_count": null,
   "id": "cbe478dc-c234-4f52-ba63-232276d36505",
   "metadata": {},
   "outputs": [],
   "source": []
  },
  {
   "cell_type": "code",
   "execution_count": null,
   "id": "6a0536d8-9342-40ef-907d-baca310c5686",
   "metadata": {},
   "outputs": [],
   "source": []
  },
  {
   "cell_type": "code",
   "execution_count": null,
   "id": "e0c4028d-49e5-4263-811d-cfd23cde2e78",
   "metadata": {},
   "outputs": [],
   "source": []
  },
  {
   "cell_type": "code",
   "execution_count": null,
   "id": "ba18c2b5-896b-45ea-8687-0118e9f67417",
   "metadata": {},
   "outputs": [],
   "source": []
  },
  {
   "cell_type": "code",
   "execution_count": null,
   "id": "bcf4febc-8e2f-4bb0-85ad-f6a9a4d97b1d",
   "metadata": {},
   "outputs": [],
   "source": []
  },
  {
   "cell_type": "markdown",
   "id": "1faea7d5-0fbf-4458-9d6b-fd99c58e558d",
   "metadata": {},
   "source": [
    "### IV. ANALYSIS AND EVALUATION (TEAM WORK)"
   ]
  },
  {
   "cell_type": "code",
   "execution_count": null,
   "id": "a62adc96-b499-4519-ae3a-087aa1dfb5fc",
   "metadata": {},
   "outputs": [],
   "source": []
  },
  {
   "cell_type": "code",
   "execution_count": null,
   "id": "8fddc52e-dcac-4859-8870-becc7866615e",
   "metadata": {},
   "outputs": [],
   "source": []
  },
  {
   "cell_type": "code",
   "execution_count": null,
   "id": "ee583bf9-7956-4dbf-9bc1-9032643422cd",
   "metadata": {},
   "outputs": [],
   "source": []
  },
  {
   "cell_type": "code",
   "execution_count": null,
   "id": "2c43bc21-6374-43fb-a012-73da9310595d",
   "metadata": {},
   "outputs": [],
   "source": []
  },
  {
   "cell_type": "markdown",
   "id": "05184dc7-cd4e-4bd9-9e16-8768b2939942",
   "metadata": {},
   "source": [
    "### V. DEPLOYING MODEL (TEAM WORK)"
   ]
  },
  {
   "cell_type": "code",
   "execution_count": null,
   "id": "92b6a28f-3182-4341-9b4e-08283f0bc663",
   "metadata": {},
   "outputs": [],
   "source": []
  },
  {
   "cell_type": "code",
   "execution_count": null,
   "id": "6947ef57-384c-4728-93ab-e690921625dc",
   "metadata": {},
   "outputs": [],
   "source": []
  },
  {
   "cell_type": "code",
   "execution_count": null,
   "id": "dc89cf79-531c-4d2b-9ff9-bab162cb1840",
   "metadata": {},
   "outputs": [],
   "source": []
  },
  {
   "cell_type": "code",
   "execution_count": null,
   "id": "c0c8c560-d01b-42e7-b7e1-fad98af51cda",
   "metadata": {},
   "outputs": [],
   "source": []
  },
  {
   "cell_type": "markdown",
   "id": "0fb65cdc-48cd-4d80-8e79-70bfab59dd5d",
   "metadata": {},
   "source": [
    "### VI. CONCLUSION (TEAM WORK)"
   ]
  },
  {
   "cell_type": "code",
   "execution_count": null,
   "id": "2297b754-1f36-4df3-bcc1-ea1b7109603a",
   "metadata": {},
   "outputs": [],
   "source": []
  }
 ],
 "metadata": {
  "kernelspec": {
   "display_name": "Python 3 (ipykernel)",
   "language": "python",
   "name": "python3"
  },
  "language_info": {
   "codemirror_mode": {
    "name": "ipython",
    "version": 3
   },
   "file_extension": ".py",
   "mimetype": "text/x-python",
   "name": "python",
   "nbconvert_exporter": "python",
   "pygments_lexer": "ipython3",
   "version": "3.9.7"
  }
 },
 "nbformat": 4,
 "nbformat_minor": 5
}
