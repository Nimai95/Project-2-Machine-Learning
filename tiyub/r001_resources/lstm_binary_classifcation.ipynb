{
 "cells": [
  {
   "cell_type": "markdown",
   "metadata": {},
   "source": [
    "lstm binary classificaiton\n",
    "\n",
    "https://gist.githubusercontent.com/abhinav-bhardwaj/1ef661af02c228d8052c5e0cf191b0ac/raw/69711af0a8a30707e77f4ad301ab4e0c7bf652a6/lstm_binary.py"
   ]
  },
  {
   "cell_type": "code",
   "execution_count": null,
   "metadata": {},
   "outputs": [],
   "source": [
    "# dataset excluding target attribute (encoded, one-hot-encoded,original) \n",
    "X = bin_data.iloc[:,0:93]"
   ]
  },
  {
   "cell_type": "code",
   "execution_count": null,
   "metadata": {},
   "outputs": [],
   "source": [
    "# target attribute\n",
    "Y = bin_data[['intrusion']].values"
   ]
  },
  {
   "cell_type": "code",
   "execution_count": null,
   "metadata": {},
   "outputs": [],
   "source": [
    "# splitting the dataset 75% for training and 25% testing\n",
    "X_train, X_test, y_train, y_test = train_test_split(\n",
    "    X,\n",
    "    Y,\n",
    "    test_size=0.25,\n",
    "    random_state=42\n",
    ")\n",
    "X_train = X_train.to_numpy()\n",
    "x_train = np.reshape(\n",
    "    X_train,\n",
    "    (\n",
    "        X_train.shape[0],\n",
    "        X_train.shape[1],\n",
    "        1\n",
    "    )\n",
    ")"
   ]
  },
  {
   "cell_type": "code",
   "execution_count": null,
   "metadata": {},
   "outputs": [],
   "source": [
    "# initializing model\n",
    "lst = Sequential()"
   ]
  },
  {
   "cell_type": "code",
   "execution_count": null,
   "metadata": {},
   "outputs": [],
   "source": [
    "# input layer and LSTM layer with 50 neurons\n",
    "lst.add(\n",
    "    LSTM(\n",
    "        units=50,\n",
    "        return_sequences=True,\n",
    "        input_shape=(\n",
    "            x_train.shape[1],\n",
    "            1\n",
    "        )\n",
    "    )\n",
    ")"
   ]
  },
  {
   "cell_type": "code",
   "execution_count": null,
   "metadata": {},
   "outputs": [],
   "source": [
    "# output layer with sigmoid activation\n",
    "lst.add(\n",
    "    Dense(\n",
    "        1,\n",
    "        activation='sigmoid'\n",
    "    )\n",
    ")"
   ]
  },
  {
   "cell_type": "code",
   "execution_count": null,
   "metadata": {},
   "outputs": [],
   "source": [
    "# defining loss function, optimizer, metrics and then compiling model\n",
    "lst.compile(\n",
    "    loss='binary_crossentropy',\n",
    "    optimizer='adam',\n",
    "    metrics=['accuracy']\n",
    ")"
   ]
  },
  {
   "cell_type": "code",
   "execution_count": null,
   "metadata": {},
   "outputs": [],
   "source": [
    "# training the model on training dataset\n",
    "history = lst.fit(\n",
    "    x_train,\n",
    "    y_train,\n",
    "    epochs=100,\n",
    "    batch_size=5000\n",
    "    validation_split=0.2\n",
    ")\n",
    "\n",
    "x_test = np.reshape(\n",
    "    X_test,\n",
    "    (\n",
    "        X_test.shape[0],\n",
    "        X_test.shape[1],\n",
    "        1\n",
    "    )\n",
    ")"
   ]
  },
  {
   "cell_type": "code",
   "execution_count": null,
   "metadata": {},
   "outputs": [],
   "source": [
    "# predicting target attribute on testing dataset\n",
    "test_results = lst.evaluate(\n",
    "    x_test,\n",
    "    y_test,\n",
    "    verbose=1\n",
    ")\n",
    "\n",
    "print(f'Test results - Loss: {test_results[0]} - Accuracy: {test_results[1]*100}%')"
   ]
  },
  {
   "cell_type": "code",
   "execution_count": null,
   "metadata": {},
   "outputs": [],
   "source": [
    "x_test = np.reshape(\n",
    "    X_test,\n",
    "    (\n",
    "        X_test.shape[0],\n",
    "        X_test.shape[1],\n",
    "        1\n",
    "    )\n",
    ")"
   ]
  },
  {
   "cell_type": "code",
   "execution_count": null,
   "metadata": {},
   "outputs": [],
   "source": [
    "# predicting target attribute on testing dataset\n",
    "test_results = lst.evaluate(\n",
    "    x_test,\n",
    "    y_test,\n",
    "    verbose=1\n",
    ")\n",
    "\n",
    "print(f'Test results - Loss: {test_results[0]} - Accuracy: {test_results[1]*100}%')"
   ]
  }
 ],
 "metadata": {
  "interpreter": {
   "hash": "123df93699b802de840f4d967a4c6e970318f3c23914ebcad33f290a4b972236"
  },
  "kernelspec": {
   "display_name": "Python 3.7.11 ('14_algotrade')",
   "language": "python",
   "name": "python3"
  },
  "language_info": {
   "codemirror_mode": {
    "name": "ipython",
    "version": 3
   },
   "file_extension": ".py",
   "mimetype": "text/x-python",
   "name": "python",
   "nbconvert_exporter": "python",
   "pygments_lexer": "ipython3",
   "version": "3.7.11"
  },
  "orig_nbformat": 4
 },
 "nbformat": 4,
 "nbformat_minor": 2
}
